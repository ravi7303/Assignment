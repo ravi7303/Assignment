{
  "nbformat": 4,
  "nbformat_minor": 0,
  "metadata": {
    "colab": {
      "provenance": []
    },
    "kernelspec": {
      "name": "python3",
      "display_name": "Python 3"
    },
    "language_info": {
      "name": "python"
    }
  },
  "cells": [
    {
      "cell_type": "markdown",
      "source": [
        "**1. Discuss the scenarios where multithreading is preferable to multiprocessing and scenarios where\n",
        "multiprocessing is a better choice.**\n",
        "\n",
        "Ans - The choice between multithreading and multiprocessing depends on the nature of the tasks being performed.\n",
        "\n",
        "**When Multithreading is Preferable:**\n",
        "\n",
        "I/O-bound tasks: Multithreading is ideal for applications that spend time waiting for I/O operations, such as reading from disk, querying a database, or making network requests. Since threads share the same memory space, they can efficiently perform other tasks while waiting for I/O, improving overall throughput.\n",
        "\n",
        "Example: A web scraper fetching data from multiple sites concurrently.\n",
        "\n",
        "Lightweight tasks with shared data:\n",
        "\n",
        "Threads are lightweight and share memory, which makes them well-suited for tasks that need frequent communication or data sharing with low overhead.\n",
        "\n",
        "Example: A server handling multiple user requests while accessing a shared database.\n",
        "\n",
        "**When Multiprocessing is Preferable:**\n",
        "\n",
        "CPU-bound tasks: For tasks requiring heavy computation (e.g., data processing or machine learning), multiprocessing is better since each process runs on its own core, allowing for true parallelism and bypassing limitations like the Global Interpreter Lock (GIL) in Python.\n",
        "\n",
        "Example: Image processing or large-scale numerical simulations.\n",
        "\n",
        "Fault tolerance and isolation:\n",
        "\n",
        "Processes are independent, so failure in one process doesn’t affect others. This is useful when tasks need strong isolation and stability.\n",
        "\n",
        "Example: Running independent, large-scale data processing tasks that should not interfere with one another.\n",
        "\n",
        "Multiprocessing is suited for CPU-heavy tasks, while multithreading excels in I/O-bound tasks or when lightweight, concurrent tasks need shared memory."
      ],
      "metadata": {
        "id": "RoejKDC-nRNe"
      }
    },
    {
      "cell_type": "code",
      "execution_count": null,
      "metadata": {
        "id": "dUy72zW4nB5r"
      },
      "outputs": [],
      "source": []
    },
    {
      "cell_type": "markdown",
      "source": [
        "**2. Describe what a process pool is and how it helps in managing multiple processes efficiently.**\n",
        "\n",
        "Ans - A **process pool** is a collection of pre-created worker processes that can be reused to execute tasks concurrently, reducing the overhead of repeatedly spawning new processes. Instead of creating a new process for each task, tasks are assigned to available workers from the pool. This helps manage system resources efficiently by limiting the number of concurrent processes, preventing system overload. Process pools improve performance by reusing processes, reducing process creation overhead, and enabling better load balancing and scalability. They are particularly useful for parallelizing CPU-bound tasks and optimizing resource utilization in multi-core systems."
      ],
      "metadata": {
        "id": "j4MEuVFHptfB"
      }
    },
    {
      "cell_type": "markdown",
      "source": [
        "**3 . Explain what multiprocessing is and why it is used in Python programs.**\n",
        "\n",
        "Ans - **Multiprocessing** is a parallel computing technique where multiple processes are run independently, each with its own memory space, allowing them to execute tasks simultaneously across multiple CPU cores. In Python, it is used to bypass the **Global Interpreter Lock (GIL)**, which prevents true parallel execution in multithreading for CPU-bound tasks. By utilizing separate processes, Python can take full advantage of multi-core systems for tasks like data processing, machine learning, or simulations. This improves performance for CPU-intensive operations, as each process runs independently, making multiprocessing ideal for tasks that require high computational power."
      ],
      "metadata": {
        "id": "13SUhmdIqJNF"
      }
    },
    {
      "cell_type": "markdown",
      "source": [
        "**4. Write a Python program using multithreading where one thread adds numbers to a list, and another\n",
        "thread removes numbers from the list. Implement a mechanism to avoid race conditions using\n",
        "threading.Lock.**\n",
        "\n",
        "Ans -\n",
        "Here's a Python program that uses multithreading to add and remove numbers from a shared list. To prevent race conditions (where multiple threads access the list concurrently and cause data corruption), we use threading.Lock to ensure that only one thread can access the list at a time."
      ],
      "metadata": {
        "id": "0QbIoQaSqgGg"
      }
    },
    {
      "cell_type": "code",
      "source": [
        "import threading\n",
        "import time\n",
        "\n",
        "# Shared list and lock\n",
        "shared_list = []\n",
        "lock = threading.Lock()\n",
        "\n",
        "# Function to add numbers to the list\n",
        "def add_numbers():\n",
        "    for i in range(1, 6):\n",
        "        time.sleep(1)  # Simulate some delay\n",
        "        with lock:  # Acquire the lock before modifying the list\n",
        "            shared_list.append(i)\n",
        "            print(f\"Added {i}, current list: {shared_list}\")\n",
        "\n",
        "# Function to remove numbers from the list\n",
        "def remove_numbers():\n",
        "    for _ in range(5):\n",
        "        time.sleep(2)  # Simulate some delay\n",
        "        with lock:  # Acquire the lock before modifying the list\n",
        "            if shared_list:\n",
        "                removed = shared_list.pop(0)\n",
        "                print(f\"Removed {removed}, current list: {shared_list}\")\n",
        "            else:\n",
        "                print(\"List is empty, nothing to remove.\")\n",
        "\n",
        "# Create threads\n",
        "add_thread = threading.Thread(target=add_numbers)\n",
        "remove_thread = threading.Thread(target=remove_numbers)\n",
        "\n",
        "# Start threads\n",
        "add_thread.start()\n",
        "remove_thread.start()\n",
        "\n",
        "# Wait for both threads to finish\n",
        "add_thread.join()\n",
        "remove_thread.join()\n",
        "\n",
        "print(\"Final list:\", shared_list)\n"
      ],
      "metadata": {
        "colab": {
          "base_uri": "https://localhost:8080/"
        },
        "id": "4WATi2gBq8lQ",
        "outputId": "12fe0c3b-0c09-413a-f403-b4d17ba02df2"
      },
      "execution_count": 1,
      "outputs": [
        {
          "output_type": "stream",
          "name": "stdout",
          "text": [
            "Added 1, current list: [1]\n",
            "Removed 1, current list: []\n",
            "Added 2, current list: [2]\n",
            "Added 3, current list: [2, 3]\n",
            "Removed 2, current list: [3]\n",
            "Added 4, current list: [3, 4]\n",
            "Added 5, current list: [3, 4, 5]\n",
            "Removed 3, current list: [4, 5]\n",
            "Removed 4, current list: [5]\n",
            "Removed 5, current list: []\n",
            "Final list: []\n"
          ]
        }
      ]
    },
    {
      "cell_type": "markdown",
      "source": [
        "**5. Describe the methods and tools available in Python for safely sharing data between threads and\n",
        "processes.**\n",
        "\n",
        "Ans - In Python, **thread-safe** data sharing can be achieved using tools from the `threading` module:\n",
        "\n",
        "1. **`threading.Lock`**: Ensures only one thread can access shared resources at a time, preventing race conditions.\n",
        "2. **`threading.Queue`**: A thread-safe queue for communication between threads, allowing one thread to produce data and another to consume it safely.\n",
        "\n",
        "For **multiprocessing**:\n",
        "1. **`multiprocessing.Queue`**: Allows safe communication between processes, supporting the transfer of data between them.\n",
        "2. **`multiprocessing.Value` and `multiprocessing.Array`**: Shared memory objects for managing data that needs to be accessed by multiple processes.\n",
        "3. **`Manager`**: Provides shared data structures like lists, dictionaries, and sets for safe sharing across processes."
      ],
      "metadata": {
        "id": "HSfUY554rN_q"
      }
    },
    {
      "cell_type": "markdown",
      "source": [
        "**6. Discuss why it’s crucial to handle exceptions in concurrent programs and the techniques available for\n",
        "doing so.**\n",
        "\n",
        "Ans - Handling exceptions in concurrent programs is crucial because concurrency introduces unique challenges that can lead to unexpected behaviors, making error management more complex. In multi-threaded and multi-process environments, tasks run concurrently, and errors may occur in different threads or processes, potentially affecting shared resources or causing crashes if not properly handled. If exceptions are not caught and managed, they can lead to data corruption, inconsistent states, resource leaks, or even deadlocks. Additionally, the non-deterministic execution order of threads and processes means errors could propagate unpredictably, causing cascading failures or difficult-to-reproduce bugs.\n",
        "\n",
        "Techniques for Handling Exceptions in Concurrent Programs:\n",
        "try-except Blocks:\n",
        "\n",
        "Each thread or process should have its own try-except block to catch exceptions locally. This ensures that one thread or process failure doesn’t impact others, enabling graceful error handling.\n",
        "concurrent.futures:\n",
        "\n",
        "The ThreadPoolExecutor and ProcessPoolExecutor classes in the concurrent.futures module capture exceptions raised in worker threads or processes. The exception can be retrieved via the Future.result() method, allowing centralized handling.\n",
        "Logging and Monitoring:\n",
        "\n",
        "It's important to log exceptions with sufficient context (e.g., thread or process name) to aid debugging. Python’s logging module allows thread-safe logging and can help track errors in concurrent systems.\n",
        "Graceful Shutdown:\n",
        "\n",
        "For processes, exceptions should be communicated back to the main process using queues. Also, ensure resources like locks or file handles are properly cleaned up using the finally block.\n",
        "\n",
        "\n",
        "In conclusion, managing exceptions in concurrent programs is vital to maintain stability, avoid data corruption, and ensure the application behaves as expected in the presence of errors."
      ],
      "metadata": {
        "id": "Qrqv3Cp_rdwB"
      }
    },
    {
      "cell_type": "markdown",
      "source": [
        "**7. Create a program that uses a thread pool to calculate the factorial of numbers from 1 to 10 concurrently.\n",
        "Use concurrent.futures.ThreadPoolExecutor to manage the threads.**\n",
        "\n",
        "Ans - Here’s a Python program that uses a ThreadPoolExecutor from the concurrent.futures module to calculate the factorial of numbers from 1 to 10 concurrently. The program will submit tasks to the thread pool, and each thread will calculate the factorial of a number independently."
      ],
      "metadata": {
        "id": "tnrVy_cqsa1Y"
      }
    },
    {
      "cell_type": "code",
      "source": [
        "import concurrent.futures\n",
        "import math\n",
        "\n",
        "# Function to calculate factorial\n",
        "def calculate_factorial(n):\n",
        "    return math.factorial(n)\n",
        "\n",
        "# Main program\n",
        "def main():\n",
        "    # List of numbers from 1 to 10\n",
        "    numbers = list(range(1, 11))\n",
        "\n",
        "    # Using ThreadPoolExecutor to manage the threads\n",
        "    with concurrent.futures.ThreadPoolExecutor(max_workers=5) as executor:\n",
        "        # Submit tasks to the thread pool and get results\n",
        "        results = executor.map(calculate_factorial, numbers)\n",
        "\n",
        "    # Print the results\n",
        "    for number, result in zip(numbers, results):\n",
        "        print(f\"Factorial of {number} is {result}\")\n",
        "\n",
        "if __name__ == \"__main__\":\n",
        "    main()\n"
      ],
      "metadata": {
        "colab": {
          "base_uri": "https://localhost:8080/"
        },
        "id": "UHTIEyk2tWkv",
        "outputId": "96f40b11-a403-4eae-9ee0-4f79b43c13cc"
      },
      "execution_count": 2,
      "outputs": [
        {
          "output_type": "stream",
          "name": "stdout",
          "text": [
            "Factorial of 1 is 1\n",
            "Factorial of 2 is 2\n",
            "Factorial of 3 is 6\n",
            "Factorial of 4 is 24\n",
            "Factorial of 5 is 120\n",
            "Factorial of 6 is 720\n",
            "Factorial of 7 is 5040\n",
            "Factorial of 8 is 40320\n",
            "Factorial of 9 is 362880\n",
            "Factorial of 10 is 3628800\n"
          ]
        }
      ]
    },
    {
      "cell_type": "markdown",
      "source": [
        "Explanation:\n",
        "calculate_factorial Function:\n",
        "\n",
        "This function calculates the factorial of a given number using Python's built-in math.factorial function.\n",
        "ThreadPoolExecutor:\n",
        "\n",
        "A ThreadPoolExecutor is used to manage a pool of worker threads. The max_workers=5 argument specifies that at most 5 threads will run concurrently. This allows for efficient resource usage by limiting the number of concurrent threads.\n",
        "executor.map():\n",
        "\n",
        "The map() function submits the factorial tasks to the thread pool. It returns an iterator of results, which we can loop through and print. This ensures that the factorial calculations are done concurrently for each number in the range from 1 to 10.\n",
        "Output:\n",
        "\n",
        "The program will output the factorial of each number from 1 to 10, calculated concurrently by different threads in the pool."
      ],
      "metadata": {
        "id": "HMr7EUNPthIk"
      }
    },
    {
      "cell_type": "markdown",
      "source": [
        "**8. Create a Python program that uses multiprocessing.Pool to compute the square of numbers from 1 to 10 in\n",
        "parallel. Measure the time taken to perform this computation using a pool of different sizes (e.g., 2, 4, 8\n",
        "processes).**\n",
        "\n",
        "Ans - Here's a Python program that uses multiprocessing.Pool to compute the square of numbers from 1 to 10 in parallel. It measures the time taken to perform the computation with different pool sizes, such as 2, 4, and 8 processes."
      ],
      "metadata": {
        "id": "0A8UIPRbufaX"
      }
    },
    {
      "cell_type": "code",
      "source": [
        "import multiprocessing\n",
        "import time\n",
        "\n",
        "# Function to compute the square of a number\n",
        "def compute_square(n):\n",
        "    return n * n\n",
        "\n",
        "# Function to measure execution time with a pool of given size\n",
        "def measure_time(pool_size):\n",
        "    # Start timer\n",
        "    start_time = time.time()\n",
        "\n",
        "    # Create a Pool of processes\n",
        "    with multiprocessing.Pool(processes=pool_size) as pool:\n",
        "        # Compute squares in parallel using map\n",
        "        results = pool.map(compute_square, range(1, 11))\n",
        "\n",
        "    # End timer\n",
        "    end_time = time.time()\n",
        "\n",
        "    # Print results and time taken\n",
        "    print(f\"Results with {pool_size} processes: {results}\")\n",
        "    print(f\"Time taken with {pool_size} processes: {end_time - start_time:.4f} seconds\\n\")\n",
        "\n",
        "# Main function to test different pool sizes\n",
        "def main():\n",
        "    for pool_size in [2, 4, 8]:\n",
        "        measure_time(pool_size)\n",
        "\n",
        "if __name__ == \"__main__\":\n",
        "    main()\n"
      ],
      "metadata": {
        "colab": {
          "base_uri": "https://localhost:8080/"
        },
        "id": "3X0VzxhRuyFe",
        "outputId": "9f1cfed3-22a8-4fc7-aa62-cfea16fe5faf"
      },
      "execution_count": 4,
      "outputs": [
        {
          "output_type": "stream",
          "name": "stdout",
          "text": [
            "Results with 2 processes: [1, 4, 9, 16, 25, 36, 49, 64, 81, 100]\n",
            "Time taken with 2 processes: 0.0481 seconds\n",
            "\n",
            "Results with 4 processes: [1, 4, 9, 16, 25, 36, 49, 64, 81, 100]\n",
            "Time taken with 4 processes: 0.0791 seconds\n",
            "\n",
            "Results with 8 processes: [1, 4, 9, 16, 25, 36, 49, 64, 81, 100]\n",
            "Time taken with 8 processes: 0.1269 seconds\n",
            "\n"
          ]
        }
      ]
    },
    {
      "cell_type": "markdown",
      "source": [
        "Key Points:\n",
        "\n",
        "The program calculates the squares of numbers from 1 to 10 in parallel using multiprocessing.Pool.\n",
        "\n",
        "It measures the time taken for the computation with different numbers of processes (2, 4, and 8) to observe how the pool size affects performance.\n",
        "\n",
        "pool.map() is used to distribute the work across multiple processes, where each process computes a part of the task (in this case, the square of each number).\n",
        "\n",
        "For CPU-bound tasks like this, a larger pool size generally improves performance up to a certain point, depending on the number of available CPU cores."
      ],
      "metadata": {
        "id": "Hc3ufQbUvE94"
      }
    }
  ]
}