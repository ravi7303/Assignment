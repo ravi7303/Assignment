{
  "nbformat": 4,
  "nbformat_minor": 0,
  "metadata": {
    "colab": {
      "provenance": []
    },
    "kernelspec": {
      "name": "python3",
      "display_name": "Python 3"
    },
    "language_info": {
      "name": "python"
    }
  },
  "cells": [
    {
      "cell_type": "markdown",
      "source": [
        "**1 . Explain the key feature of python that make it a popular choice for\n",
        "  programming.**\n",
        "\n",
        "Ans- - Python is a programing language that is easy to understand and\n",
        "write, making it popular choice among developers and programmers.\n",
        "\n",
        "-It is compatible with various programming paradigms, such as procedural, objects-oriented, and functional programming.\n",
        "\n",
        "-Python has a large and active community of developers, an extensive standard library, and third-party packages for various domains.\n",
        "\n",
        "**2 Describe the role of predefined keywords in python and provide examples of how they are used in a program.**\n",
        "\n",
        "Ans.- Keyword are reserved word in python that have special meaning and cannot be used as identifiers (Variable names, function names, etc.).\n",
        "\n",
        "Examples of keywors include if, else, while, for, def, class, import, try, except, return, True, False, None, etc."
      ],
      "metadata": {
        "id": "SMfTXN6Enzll"
      }
    },
    {
      "cell_type": "code",
      "execution_count": null,
      "metadata": {
        "colab": {
          "base_uri": "https://localhost:8080/"
        },
        "id": "4aXrgNG7idlE",
        "outputId": "dbbe0d3c-ae18-46df-ec26-cecda3aea055"
      },
      "outputs": [
        {
          "output_type": "stream",
          "name": "stdout",
          "text": [
            "example of True, False, or, and, not keywords\n",
            "True\n",
            "False\n",
            "True\n"
          ]
        }
      ],
      "source": [
        "print(\"example of True, False, or, and, not keywords\")\n",
        "\n",
        "#compare two operands using or operator\n",
        "print(True or False)\n",
        "\n",
        "#compare two operands using and operator\n",
        "print(True and False)\n",
        "\n",
        "#use of not operator\n",
        "print(not False)\n"
      ]
    },
    {
      "cell_type": "code",
      "source": [
        "#run for loop\n",
        "for t in range(1 , 10):\n",
        "  #print one of t ==1\n",
        "  if t==1:\n",
        "    print('one')\n",
        "  #print seven if t==7\n",
        "  elif t==7:\n",
        "    print('seven')\n",
        "  else:\n",
        "    print('else block executed')\n"
      ],
      "metadata": {
        "colab": {
          "base_uri": "https://localhost:8080/"
        },
        "id": "lOnEV1w9w_x0",
        "outputId": "dbea5f62-c5b7-4465-856c-d9d102281d89"
      },
      "execution_count": null,
      "outputs": [
        {
          "output_type": "stream",
          "name": "stdout",
          "text": [
            "one\n",
            "else block executed\n",
            "else block executed\n",
            "else block executed\n",
            "else block executed\n",
            "else block executed\n",
            "seven\n",
            "else block executed\n",
            "else block executed\n"
          ]
        }
      ]
    },
    {
      "cell_type": "code",
      "source": [
        "def fun(num):\n",
        "  try:\n",
        "    a=1.0/num\n",
        "  except:\n",
        "    print('exception raises')\n",
        "    return\n",
        "  return a\n",
        "print(fun(1))\n",
        "print(fun(0))"
      ],
      "metadata": {
        "colab": {
          "base_uri": "https://localhost:8080/"
        },
        "id": "QaKAttCDytDQ",
        "outputId": "ac60754f-ebcc-4ceb-b392-2859e1797034"
      },
      "execution_count": null,
      "outputs": [
        {
          "output_type": "stream",
          "name": "stdout",
          "text": [
            "1.0\n",
            "exception raises\n",
            "None\n"
          ]
        }
      ]
    },
    {
      "cell_type": "markdown",
      "source": [
        "**3. Compare and contrast mutable and immutable objects in Python with examples.**\n",
        "\n",
        "Ans- In Python, objects can be changeable (modifiable) or unchangeable. Mutable objects, such as lists and dictionaries, can be modified after creation, while immutable objects, such as tuples and string, cannot. Mutability affects how objects are stored and manipulated in memory, impacting performance, memory usages, and concurrency in python programs."
      ],
      "metadata": {
        "id": "v3Bovuxiz_9P"
      }
    },
    {
      "cell_type": "code",
      "source": [
        "list_cont = [1,2,3,4.5,2+7j,False,\"Ravi\"]\n",
        "list_cont\n",
        "#mutability (modify the item from dictionary in python)\n",
        "list_cont[6]=\"Aryan\"\n",
        "list_cont"
      ],
      "metadata": {
        "colab": {
          "base_uri": "https://localhost:8080/"
        },
        "id": "gjIB9xGV2MlB",
        "outputId": "04cfb34e-e51c-4386-fae4-98c6498a8866"
      },
      "execution_count": null,
      "outputs": [
        {
          "output_type": "execute_result",
          "data": {
            "text/plain": [
              "[1, 2, 3, 4.5, (2+7j), False, 'Aryan']"
            ]
          },
          "metadata": {},
          "execution_count": 10
        }
      ]
    },
    {
      "cell_type": "code",
      "source": [
        "#Python code to test that string are immutable\n",
        "a=\"Ravi\"\n",
        "a[0]=\"K\"\n",
        "print(a)"
      ],
      "metadata": {
        "colab": {
          "base_uri": "https://localhost:8080/",
          "height": 193
        },
        "id": "fbVXArBF4YjE",
        "outputId": "7f230244-75d4-406f-f822-500430bb558c"
      },
      "execution_count": null,
      "outputs": [
        {
          "output_type": "error",
          "ename": "TypeError",
          "evalue": "'str' object does not support item assignment",
          "traceback": [
            "\u001b[0;31m---------------------------------------------------------------------------\u001b[0m",
            "\u001b[0;31mTypeError\u001b[0m                                 Traceback (most recent call last)",
            "\u001b[0;32m<ipython-input-11-bfe2a35fe80e>\u001b[0m in \u001b[0;36m<cell line: 3>\u001b[0;34m()\u001b[0m\n\u001b[1;32m      1\u001b[0m \u001b[0;31m#Python code to test that string are immutable\u001b[0m\u001b[0;34m\u001b[0m\u001b[0;34m\u001b[0m\u001b[0m\n\u001b[1;32m      2\u001b[0m \u001b[0ma\u001b[0m\u001b[0;34m=\u001b[0m\u001b[0;34m\"Ravi\"\u001b[0m\u001b[0;34m\u001b[0m\u001b[0;34m\u001b[0m\u001b[0m\n\u001b[0;32m----> 3\u001b[0;31m \u001b[0ma\u001b[0m\u001b[0;34m[\u001b[0m\u001b[0;36m0\u001b[0m\u001b[0;34m]\u001b[0m\u001b[0;34m=\u001b[0m\u001b[0;34m\"K\"\u001b[0m\u001b[0;34m\u001b[0m\u001b[0;34m\u001b[0m\u001b[0m\n\u001b[0m\u001b[1;32m      4\u001b[0m \u001b[0mprint\u001b[0m\u001b[0;34m(\u001b[0m\u001b[0ma\u001b[0m\u001b[0;34m)\u001b[0m\u001b[0;34m\u001b[0m\u001b[0;34m\u001b[0m\u001b[0m\n",
            "\u001b[0;31mTypeError\u001b[0m: 'str' object does not support item assignment"
          ]
        }
      ]
    },
    {
      "cell_type": "markdown",
      "source": [
        "**4. Discuss the different types of operators in Python and provide examples of how they are used.**\n",
        "\n",
        "Ans- Operators are special symbol or keywords that are used to carry out specific action on number or variable in Python expressions.\n",
        "\n",
        "1. **Arithmwtic operator** - An arithmetic operator in Python is a symbol that is used to perform\n",
        "   mathematical operations on numbers. The standard arithmetic operators in Python are:\n",
        "Addition: (+)\n",
        "Subtraction: (-)\n",
        "Multiplication: *\n",
        ",Division: (/)\n",
        "Modulus: (%)\n",
        "Exponentiation: (**) etc."
      ],
      "metadata": {
        "id": "ARYwQ6dn5Pty"
      }
    },
    {
      "cell_type": "code",
      "source": [
        "#Example\n",
        "a = 8\n",
        "b = 2\n",
        "add=a+b\n",
        "sub=a-b\n",
        "mul=a*b\n",
        "div=a/b\n",
        "mod=a%b\n",
        "exp=a**b\n",
        "print(add)\n",
        "print(sub)\n",
        "print(mul)\n",
        "print(div)\n",
        "print(mod)\n",
        "print(exp)"
      ],
      "metadata": {
        "colab": {
          "base_uri": "https://localhost:8080/"
        },
        "id": "NhO3UK2Q738x",
        "outputId": "3fe74586-1b40-4cfd-89c1-541b243886a1"
      },
      "execution_count": null,
      "outputs": [
        {
          "output_type": "stream",
          "name": "stdout",
          "text": [
            "10\n",
            "6\n",
            "16\n",
            "4.0\n",
            "0\n",
            "64\n"
          ]
        }
      ]
    },
    {
      "cell_type": "markdown",
      "source": [
        "2 . **Comparison Operator**- Comparison operators, also known as relational operators, in Python are symbols or keywords that compare two values and evaluate their relationship.\n",
        "\n",
        "The six comparison operators are 1) == or equal to, 2) != or not equal to, 3) > or greater than, 4) >= or greater than or equal to, 5) < or less than, and 6) <= or less than or equal to. They can be used to compare different values in Python, such as integers or strings."
      ],
      "metadata": {
        "id": "CYDoRULd-WZT"
      }
    },
    {
      "cell_type": "code",
      "source": [
        "#Example\n",
        "a=10\n",
        "b=30\n",
        "\n",
        "print(a==b)\n",
        "print(a!=b)\n",
        "print(a>b)\n",
        "print(a<b)\n",
        "print(a<=b)\n",
        "print(a>=b)"
      ],
      "metadata": {
        "colab": {
          "base_uri": "https://localhost:8080/"
        },
        "id": "4zoCHdzH_LmP",
        "outputId": "fba571f1-d0bc-4f63-afc3-66d1fc9404db"
      },
      "execution_count": null,
      "outputs": [
        {
          "output_type": "stream",
          "name": "stdout",
          "text": [
            "False\n",
            "True\n",
            "False\n",
            "True\n",
            "True\n",
            "False\n"
          ]
        }
      ]
    },
    {
      "cell_type": "markdown",
      "source": [
        "3 . **Logica operator**- Logical operators in Python combine two or more operands and conduct logical comparisons on them. There are three types, i.e., AND, OR, and NOT. They return a boolean value, i.e., True or False.\n"
      ],
      "metadata": {
        "id": "hOF22Zm7AE4U"
      }
    },
    {
      "cell_type": "code",
      "source": [
        "#and\n",
        "#or\n",
        "#not\n",
        "a=True\n",
        "b=False\n",
        "print(a and b)\n",
        "print(a or b)\n",
        "print(not a)"
      ],
      "metadata": {
        "colab": {
          "base_uri": "https://localhost:8080/"
        },
        "id": "t2gC0VYsA04w",
        "outputId": "7ef6950a-f61d-46e5-8589-d364292b03a3"
      },
      "execution_count": null,
      "outputs": [
        {
          "output_type": "stream",
          "name": "stdout",
          "text": [
            "False\n",
            "True\n",
            "False\n"
          ]
        }
      ]
    },
    {
      "cell_type": "markdown",
      "source": [
        "4 . **Bitwise operators**- Bitwise operators in Python are used to perform calculations on integers at the binary level.\n",
        "\n",
        "Bitwise NOT\n",
        "\n",
        "Bitwise Shift\n",
        "\n",
        "Bitwise AND\n",
        "\n",
        "Bitwise XOR\n",
        "\n",
        "Bitwise OR"
      ],
      "metadata": {
        "id": "tHPN5ot2Brss"
      }
    },
    {
      "cell_type": "code",
      "source": [
        "#Example\n",
        "a=8\n",
        "b=2\n",
        "print(a&b)\n",
        "print(a|b)\n",
        "print(~a)\n",
        "print(a^b)\n",
        "print(a>>b)\n",
        "print(a<<b)"
      ],
      "metadata": {
        "colab": {
          "base_uri": "https://localhost:8080/"
        },
        "id": "A415SQ79Cy4h",
        "outputId": "a2525121-7010-4463-a734-8ea3de7e14e4"
      },
      "execution_count": null,
      "outputs": [
        {
          "output_type": "stream",
          "name": "stdout",
          "text": [
            "0\n",
            "10\n",
            "-9\n",
            "10\n",
            "2\n",
            "32\n"
          ]
        }
      ]
    },
    {
      "cell_type": "markdown",
      "source": [
        "5 . **Identity operators**- Identity operators in Python compare the memory locations of two objects to determine if they are the same object:"
      ],
      "metadata": {
        "id": "awTdWhQ1D-i3"
      }
    },
    {
      "cell_type": "code",
      "source": [
        "#example 1\n",
        "a=2\n",
        "b=3\n",
        "print(a is b)\n",
        "print(a is not b)"
      ],
      "metadata": {
        "colab": {
          "base_uri": "https://localhost:8080/"
        },
        "id": "-MtEteqYFCpY",
        "outputId": "d73d8f0e-d1c8-4f55-8bee-1f92a4b16dda"
      },
      "execution_count": null,
      "outputs": [
        {
          "output_type": "stream",
          "name": "stdout",
          "text": [
            "False\n",
            "True\n"
          ]
        }
      ]
    },
    {
      "cell_type": "code",
      "source": [
        "#example 2\n",
        "a=2\n",
        "b=a\n",
        "print(a is b)\n",
        "print(a is not b)"
      ],
      "metadata": {
        "colab": {
          "base_uri": "https://localhost:8080/"
        },
        "id": "z8nt15tvFna5",
        "outputId": "ec49e42d-702a-4802-d723-5b46c87cb6da"
      },
      "execution_count": null,
      "outputs": [
        {
          "output_type": "stream",
          "name": "stdout",
          "text": [
            "True\n",
            "False\n"
          ]
        }
      ]
    },
    {
      "cell_type": "markdown",
      "source": [
        "**5. Explain the concept of type casting in python with examples.**\n",
        "\n",
        "Ans- Type casting, also refered to as type conversion, is the process of changing one data type to another in python. Python provides built-in function for type casting. such as int() float() str() etc."
      ],
      "metadata": {
        "id": "2MGwEm23GJzo"
      }
    },
    {
      "cell_type": "code",
      "source": [
        "#Type casting\n",
        "#example\n",
        "a=\"2\"\n",
        "b=3\n",
        "int(a)+b"
      ],
      "metadata": {
        "colab": {
          "base_uri": "https://localhost:8080/"
        },
        "id": "6AXrfKQnHS9C",
        "outputId": "709a664a-3d71-4946-9b11-f9d22f47d198"
      },
      "execution_count": null,
      "outputs": [
        {
          "output_type": "execute_result",
          "data": {
            "text/plain": [
              "5"
            ]
          },
          "metadata": {},
          "execution_count": 24
        }
      ]
    },
    {
      "cell_type": "code",
      "source": [
        "#string to integers.\n",
        "a=\"2\"\n",
        "print(type(a))\n",
        "print(type(int(a)))\n"
      ],
      "metadata": {
        "colab": {
          "base_uri": "https://localhost:8080/"
        },
        "id": "_8iszA3NHrdR",
        "outputId": "30482c68-f356-42e6-fa82-f375b8597943"
      },
      "execution_count": null,
      "outputs": [
        {
          "output_type": "stream",
          "name": "stdout",
          "text": [
            "<class 'str'>\n",
            "<class 'int'>\n"
          ]
        }
      ]
    },
    {
      "cell_type": "code",
      "source": [
        "#float to integers.\n",
        "b=6.78\n",
        "type(b)\n",
        "float_value=int(b)\n",
        "type(float_value)"
      ],
      "metadata": {
        "colab": {
          "base_uri": "https://localhost:8080/"
        },
        "id": "tYhBAyOyIHNE",
        "outputId": "26ac984b-9810-4669-d71c-73e8a25b5141"
      },
      "execution_count": null,
      "outputs": [
        {
          "output_type": "execute_result",
          "data": {
            "text/plain": [
              "int"
            ]
          },
          "metadata": {},
          "execution_count": 29
        }
      ]
    },
    {
      "cell_type": "code",
      "source": [
        "#integer to float.\n",
        "a=2\n",
        "type(a)\n",
        "b=float(b)\n",
        "b\n",
        "type(b)"
      ],
      "metadata": {
        "colab": {
          "base_uri": "https://localhost:8080/"
        },
        "id": "OMQNW94tJSxi",
        "outputId": "30580c56-1151-4212-85f8-58a40292d793"
      },
      "execution_count": null,
      "outputs": [
        {
          "output_type": "execute_result",
          "data": {
            "text/plain": [
              "float"
            ]
          },
          "metadata": {},
          "execution_count": 30
        }
      ]
    },
    {
      "cell_type": "markdown",
      "source": [
        "**6. How do conditional statements work in Python? Illustrate with example.**\n",
        "\n",
        "Ans- Conditional in Python are used to execute code based on the evalution of one or more conditions. Python support conditional statements such as if, elif(else if), and else to control the flow of execution."
      ],
      "metadata": {
        "id": "OmPWOKwsKoEs"
      }
    },
    {
      "cell_type": "code",
      "source": [
        "# if statement\n",
        "#example\n",
        "weather =\"rainy\"\n",
        "if weather ==\"rainy\":\n",
        "   print(\"i will not play cricket\")"
      ],
      "metadata": {
        "colab": {
          "base_uri": "https://localhost:8080/"
        },
        "id": "yCMpCiglNBck",
        "outputId": "30ea98af-9c91-4452-e956-a8278e0d1466"
      },
      "execution_count": null,
      "outputs": [
        {
          "output_type": "stream",
          "name": "stdout",
          "text": [
            "i will not play cricket\n"
          ]
        }
      ]
    },
    {
      "cell_type": "code",
      "source": [
        "# if else statement\n",
        "#example\n",
        "weather = \"sunny\"\n",
        "if weather ==\"sunny\":\n",
        "  print(\"i will not play cricket\")\n",
        "else:\n",
        "  print(\"i will watch TV\")"
      ],
      "metadata": {
        "colab": {
          "base_uri": "https://localhost:8080/"
        },
        "id": "nSwEcoPsOCwT",
        "outputId": "0d99e054-a6f0-4119-fc0f-a0a0d2983ff0"
      },
      "execution_count": null,
      "outputs": [
        {
          "output_type": "stream",
          "name": "stdout",
          "text": [
            "i will not play cricket\n"
          ]
        }
      ]
    },
    {
      "cell_type": "code",
      "source": [
        "# if elif else\n",
        "#example\n",
        "a=10\n",
        "if a>100:\n",
        "  print(\"this block will be executed if a is greater than 100\")\n",
        "elif a<100:\n",
        "  print(\"this block will be executed if a is lesser than 100\")\n",
        "else:\n",
        "  print(\"the number is equal to 100\")"
      ],
      "metadata": {
        "colab": {
          "base_uri": "https://localhost:8080/"
        },
        "id": "ZkFPAVF-O3RK",
        "outputId": "d53c9389-09cc-412c-c12a-2e07fe07df7e"
      },
      "execution_count": null,
      "outputs": [
        {
          "output_type": "stream",
          "name": "stdout",
          "text": [
            "this block will be executed if a is lesser than 100\n"
          ]
        }
      ]
    },
    {
      "cell_type": "code",
      "source": [
        "# nested if else\n",
        "#example\n",
        "x=1\n",
        "y=6\n",
        "if x>5:\n",
        "  if y>5:\n",
        "    print(\"both x and y is greater than 5\")\n",
        "  else:\n",
        "    print(\"x is greater than 5 by y is less than 5\")\n",
        "else:\n",
        "  print(\"x is not greater than 5\")"
      ],
      "metadata": {
        "colab": {
          "base_uri": "https://localhost:8080/"
        },
        "id": "CFVFzO7XPwwx",
        "outputId": "145f2d0b-3a98-46c2-c206-b260111fbccb"
      },
      "execution_count": null,
      "outputs": [
        {
          "output_type": "stream",
          "name": "stdout",
          "text": [
            "x is not greater than 5\n"
          ]
        }
      ]
    },
    {
      "cell_type": "markdown",
      "source": [
        "**7 . Describe the different type of loops in Python and their use cases with examples.**\n",
        "\n",
        "Ans - In Python, loops are employed to repeat a sequence of action or code until a specific condition is fulfilled.\n",
        "\n",
        "Python offers two primary type of loops: for loops and while loops.\n",
        "\n",
        "\"for\" loops are used for iterating over a sequence of element."
      ],
      "metadata": {
        "id": "Lf86NewcQuUi"
      }
    },
    {
      "cell_type": "code",
      "source": [
        "# \"for\" loop\n",
        "#example\n",
        "# this python code iterates through a list called fruits, containing \"mango\",\"grapes\",\"banana\"\n",
        "#it seperate line,  displaying them in the order they appear in the list\n",
        "fruits=[\"mango\",\"grapes\",\"banana\"]\n",
        "for fruit in fruits:\n",
        "  print(fruit)\n",
        "\n"
      ],
      "metadata": {
        "colab": {
          "base_uri": "https://localhost:8080/"
        },
        "id": "BygyE8U2S-Wi",
        "outputId": "770af54f-9a35-43f0-fb96-93979f190ebc"
      },
      "execution_count": 39,
      "outputs": [
        {
          "output_type": "stream",
          "name": "stdout",
          "text": [
            "mango\n",
            "grapes\n",
            "banana\n"
          ]
        }
      ]
    },
    {
      "cell_type": "markdown",
      "source": [
        "\"while\" loops are used for executing code until a specified condition becomes False."
      ],
      "metadata": {
        "id": "aP4KVn0TUlhp"
      }
    },
    {
      "cell_type": "code",
      "source": [
        "#\"while\" loop\n",
        "#example\n",
        "count=0\n",
        "while(count<2):\n",
        "  count=count+1\n",
        "  print(\"Ravi\")\n",
        "else:\n",
        "  print(\"Aryan\")"
      ],
      "metadata": {
        "colab": {
          "base_uri": "https://localhost:8080/"
        },
        "id": "7eXKjNTPU5z9",
        "outputId": "df977cd2-797f-4006-f766-c79826511224"
      },
      "execution_count": 40,
      "outputs": [
        {
          "output_type": "stream",
          "name": "stdout",
          "text": [
            "Ravi\n",
            "Ravi\n",
            "Aryan\n"
          ]
        }
      ]
    }
  ]
}