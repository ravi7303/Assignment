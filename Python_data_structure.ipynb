{
  "nbformat": 4,
  "nbformat_minor": 0,
  "metadata": {
    "colab": {
      "provenance": []
    },
    "kernelspec": {
      "name": "python3",
      "display_name": "Python 3"
    },
    "language_info": {
      "name": "python"
    }
  },
  "cells": [
    {
      "cell_type": "code",
      "execution_count": null,
      "metadata": {
        "id": "I5VR0GjUpQQf"
      },
      "outputs": [],
      "source": []
    },
    {
      "cell_type": "markdown",
      "source": [
        "**1 . Discuss string slicing and provide examples.**\n",
        "\n",
        "Ans. - **String Slicing**- Each character in the string can be accessed by its index, or position. Substrings can be extracted using slicing. Strings can be joined together and altered using a variety of techniques (find, replace, etc.)."
      ],
      "metadata": {
        "id": "uNoLnZpur1kI"
      }
    },
    {
      "cell_type": "code",
      "source": [
        "#EXAMPLE 1 - `python name = \"Ravi Verma\" first_letter = name[0]\n",
        "# Accessing initials = name[:4] for the first character (R).\n",
        "#Chopping to obtain initials (Ravi)\n",
        "name = \"Ravi Verma\"\n",
        "first_letter= name[0]\n",
        "initials = name[:4]\n",
        "initials"
      ],
      "metadata": {
        "colab": {
          "base_uri": "https://localhost:8080/",
          "height": 35
        },
        "id": "7_anK47AsszU",
        "outputId": "86f8d3a4-2136-45ae-fcb3-3afed3e86916"
      },
      "execution_count": null,
      "outputs": [
        {
          "output_type": "execute_result",
          "data": {
            "text/plain": [
              "'Ravi'"
            ],
            "application/vnd.google.colaboratory.intrinsic+json": {
              "type": "string"
            }
          },
          "metadata": {},
          "execution_count": 8
        }
      ]
    },
    {
      "cell_type": "markdown",
      "source": [
        "**2 . Explain the key features of lists in python.**\n",
        "\n",
        "Ans. - **Key feature of list in python-**\n",
        "\n",
        "- Ordered, mutable collections of elements. Think of shopping lists or task lists. Lists can hold items of various data types (numbers, strings, even other lists.\n",
        "\n",
        "-  You can add, remove, or modify elements within a list using indexing and slicing. Lists are versatile for storing and managing collections that might change.\n"
      ],
      "metadata": {
        "id": "neOcK3OvudF3"
      }
    },
    {
      "cell_type": "markdown",
      "source": [
        "**3 . Describe how to access, modify, and delete elements in a list with examples.**\n",
        "\n",
        "Ans - **Access element in list** - List items are indexed and you can access them by referring to the index number:"
      ],
      "metadata": {
        "id": "E2v4O2CbMECt"
      }
    },
    {
      "cell_type": "code",
      "source": [
        "#example\n",
        "name = [\"rohan\",\"sohan\",\"mohan\"]\n",
        "print(name[1])"
      ],
      "metadata": {
        "colab": {
          "base_uri": "https://localhost:8080/"
        },
        "id": "YJTyNEQaNCcK",
        "outputId": "436257f4-0ec9-4b60-f730-d803cb12ee42"
      },
      "execution_count": 19,
      "outputs": [
        {
          "output_type": "stream",
          "name": "stdout",
          "text": [
            "sohan\n"
          ]
        }
      ]
    },
    {
      "cell_type": "markdown",
      "source": [
        "- **Modify element in list -** To change the value of a specific item, refer to the index number:"
      ],
      "metadata": {
        "id": "4Ql12FmzN5rd"
      }
    },
    {
      "cell_type": "code",
      "source": [
        "#example 1\n",
        "name = [\"rohan\",\"sohan\",\"mohan\"]\n",
        "name[0]= \"Rahul\"\n",
        "print(name)"
      ],
      "metadata": {
        "colab": {
          "base_uri": "https://localhost:8080/"
        },
        "id": "odLIt67aOYOa",
        "outputId": "29d3bb10-b7b0-4b3c-f025-a65debac3f54"
      },
      "execution_count": 20,
      "outputs": [
        {
          "output_type": "stream",
          "name": "stdout",
          "text": [
            "['Rahul', 'sohan', 'mohan']\n"
          ]
        }
      ]
    },
    {
      "cell_type": "code",
      "source": [
        "#example 2\n",
        "name = [\"rohan\", \"sohan\",\"mohan\"]\n",
        "name.append(\"rahul\")\n",
        "print(name)"
      ],
      "metadata": {
        "colab": {
          "base_uri": "https://localhost:8080/"
        },
        "id": "ejHMCwvmPVfq",
        "outputId": "eacfec75-9896-43fe-851d-c3bbfc9bb3af"
      },
      "execution_count": 22,
      "outputs": [
        {
          "output_type": "stream",
          "name": "stdout",
          "text": [
            "['rohan', 'sohan', 'mohan', 'rahul']\n"
          ]
        }
      ]
    },
    {
      "cell_type": "markdown",
      "source": [
        "- **Delete elements in list -** The remove() and del method removes the specified item."
      ],
      "metadata": {
        "id": "r93JHNNfO-J0"
      }
    },
    {
      "cell_type": "code",
      "source": [
        "#example 1\n",
        "name =[\"rohan\",\"sohan\",\"mohan\"]\n",
        "name.remove(\"sohan\")\n",
        "print(name)"
      ],
      "metadata": {
        "colab": {
          "base_uri": "https://localhost:8080/"
        },
        "id": "_ORzfo1TQTRS",
        "outputId": "e6fe36a2-8c7d-47a7-c126-34d811d5cf34"
      },
      "execution_count": 23,
      "outputs": [
        {
          "output_type": "stream",
          "name": "stdout",
          "text": [
            "['rohan', 'mohan']\n"
          ]
        }
      ]
    },
    {
      "cell_type": "code",
      "source": [
        "#example 2\n",
        "employee = [\"rohan\",\"mohan\",\"sohan\"]\n",
        "del employee[1]\n",
        "print(employee)\n"
      ],
      "metadata": {
        "colab": {
          "base_uri": "https://localhost:8080/"
        },
        "id": "Z11kuixBRfDd",
        "outputId": "63f8ae21-a1e7-4876-dc07-1aea6f8a459f"
      },
      "execution_count": 24,
      "outputs": [
        {
          "output_type": "stream",
          "name": "stdout",
          "text": [
            "['rohan', 'sohan']\n"
          ]
        }
      ]
    },
    {
      "cell_type": "markdown",
      "source": [
        "**4 . Compare and contrast tuples and lists with examples.**\n",
        "\n",
        "Ans - As we know tuples are immutable and lists are mutable.\n",
        "\n",
        "- Here we are going to compare the list and tuple mutability tests.\n",
        "\n"
      ],
      "metadata": {
        "id": "VsH3TLzJTz7d"
      }
    },
    {
      "cell_type": "code",
      "source": [
        "#example 1\n",
        "# Creating a List with\n",
        "# the use of Numbers\n",
        "# code to test that tuples are mutable\n",
        "List = [1, 2, 4, 4, 3, 3, 3, 6, 5]\n",
        "print(\"Original list \", List)\n",
        "\n",
        "List[3] = 77\n",
        "print(\"Example to show mutability \", List)"
      ],
      "metadata": {
        "colab": {
          "base_uri": "https://localhost:8080/"
        },
        "id": "eE2Fe5CkUa1C",
        "outputId": "16dfa65a-1852-4f47-a5d0-6719f646620b"
      },
      "execution_count": 25,
      "outputs": [
        {
          "output_type": "stream",
          "name": "stdout",
          "text": [
            "Original list  [1, 2, 4, 4, 3, 3, 3, 6, 5]\n",
            "Example to show mutability  [1, 2, 4, 77, 3, 3, 3, 6, 5]\n"
          ]
        }
      ]
    },
    {
      "cell_type": "code",
      "source": [
        "#example 2\n",
        "# code to test that tuples are immutable\n",
        "\n",
        "tuple1 = (0, 1, 2, 3)\n",
        "tuple1[0] = 4\n",
        "print(tuple1)"
      ],
      "metadata": {
        "colab": {
          "base_uri": "https://localhost:8080/",
          "height": 193
        },
        "id": "UtmUm6xbUw89",
        "outputId": "e5c5515e-e6de-434e-9c5d-4865d59a51cf"
      },
      "execution_count": 27,
      "outputs": [
        {
          "output_type": "error",
          "ename": "TypeError",
          "evalue": "'tuple' object does not support item assignment",
          "traceback": [
            "\u001b[0;31m---------------------------------------------------------------------------\u001b[0m",
            "\u001b[0;31mTypeError\u001b[0m                                 Traceback (most recent call last)",
            "\u001b[0;32m<ipython-input-27-09a99948932a>\u001b[0m in \u001b[0;36m<cell line: 5>\u001b[0;34m()\u001b[0m\n\u001b[1;32m      3\u001b[0m \u001b[0;34m\u001b[0m\u001b[0m\n\u001b[1;32m      4\u001b[0m \u001b[0mtuple1\u001b[0m \u001b[0;34m=\u001b[0m \u001b[0;34m(\u001b[0m\u001b[0;36m0\u001b[0m\u001b[0;34m,\u001b[0m \u001b[0;36m1\u001b[0m\u001b[0;34m,\u001b[0m \u001b[0;36m2\u001b[0m\u001b[0;34m,\u001b[0m \u001b[0;36m3\u001b[0m\u001b[0;34m)\u001b[0m\u001b[0;34m\u001b[0m\u001b[0;34m\u001b[0m\u001b[0m\n\u001b[0;32m----> 5\u001b[0;31m \u001b[0mtuple1\u001b[0m\u001b[0;34m[\u001b[0m\u001b[0;36m0\u001b[0m\u001b[0;34m]\u001b[0m \u001b[0;34m=\u001b[0m \u001b[0;36m4\u001b[0m\u001b[0;34m\u001b[0m\u001b[0;34m\u001b[0m\u001b[0m\n\u001b[0m\u001b[1;32m      6\u001b[0m \u001b[0mprint\u001b[0m\u001b[0;34m(\u001b[0m\u001b[0mtuple1\u001b[0m\u001b[0;34m)\u001b[0m\u001b[0;34m\u001b[0m\u001b[0;34m\u001b[0m\u001b[0m\n",
            "\u001b[0;31mTypeError\u001b[0m: 'tuple' object does not support item assignment"
          ]
        }
      ]
    },
    {
      "cell_type": "markdown",
      "source": [
        "- We can see here in example 2vtuple can not be modified."
      ],
      "metadata": {
        "id": "whFXxPFVU-bu"
      }
    },
    {
      "cell_type": "markdown",
      "source": [
        "**5. Describe the key feature of sets and provide examples of their use.**\n",
        "\n",
        "Ans -\n",
        "\n",
        "- You can add or remove elements from a set, but you cannot access elements by index (since order doesn't matter). Set operations like union (combining elements), intersection (finding common elements), and difference (finding elements in one set but not the other) are efficient."
      ],
      "metadata": {
        "id": "qM_PyQpPVjIG"
      }
    },
    {
      "cell_type": "code",
      "source": [
        "# example 1\n",
        "var = {\"Greeks\", \"for\", \"Geeks\"}\n",
        "type(var)\n"
      ],
      "metadata": {
        "colab": {
          "base_uri": "https://localhost:8080/"
        },
        "id": "9pGsiA_oX8Uy",
        "outputId": "f52adf09-6c33-4091-97f7-ad6f90f5f9b6"
      },
      "execution_count": 30,
      "outputs": [
        {
          "output_type": "execute_result",
          "data": {
            "text/plain": [
              "set"
            ]
          },
          "metadata": {},
          "execution_count": 30
        }
      ]
    },
    {
      "cell_type": "code",
      "source": [
        "# example 2\n",
        "# typecasting list to set\n",
        "myset = set([\"a\", \"b\", \"c\"])\n",
        "print(myset)\n",
        "\n",
        "# Adding element to the set\n",
        "myset.add(\"d\")\n",
        "print(myset)"
      ],
      "metadata": {
        "colab": {
          "base_uri": "https://localhost:8080/"
        },
        "id": "IbEeKgpvX_cg",
        "outputId": "f6751cc5-30bb-4057-d871-5cdcb15d10aa"
      },
      "execution_count": 31,
      "outputs": [
        {
          "output_type": "stream",
          "name": "stdout",
          "text": [
            "{'a', 'b', 'c'}\n",
            "{'a', 'b', 'd', 'c'}\n"
          ]
        }
      ]
    },
    {
      "cell_type": "code",
      "source": [
        "#example 3\n",
        "# Python program to demonstrate that\n",
        "# a set cannot have duplicate values\n",
        "# and we cannot change its items\n",
        "\n",
        "# a set cannot have duplicate values\n",
        "myset = {\"Geeks\", \"for\", \"Geeks\"}\n",
        "print(myset)\n",
        "\n",
        "# values of a set cannot be changed\n",
        "myset[1] = \"Hello\"\n",
        "print(myset)"
      ],
      "metadata": {
        "colab": {
          "base_uri": "https://localhost:8080/",
          "height": 211
        },
        "id": "lIF5X_EqYytR",
        "outputId": "e06f9373-b5dd-432b-c1ae-fa58642c0853"
      },
      "execution_count": 32,
      "outputs": [
        {
          "output_type": "stream",
          "name": "stdout",
          "text": [
            "{'for', 'Geeks'}\n"
          ]
        },
        {
          "output_type": "error",
          "ename": "TypeError",
          "evalue": "'set' object does not support item assignment",
          "traceback": [
            "\u001b[0;31m---------------------------------------------------------------------------\u001b[0m",
            "\u001b[0;31mTypeError\u001b[0m                                 Traceback (most recent call last)",
            "\u001b[0;32m<ipython-input-32-ff394e0a3321>\u001b[0m in \u001b[0;36m<cell line: 11>\u001b[0;34m()\u001b[0m\n\u001b[1;32m      9\u001b[0m \u001b[0;34m\u001b[0m\u001b[0m\n\u001b[1;32m     10\u001b[0m \u001b[0;31m# values of a set cannot be changed\u001b[0m\u001b[0;34m\u001b[0m\u001b[0;34m\u001b[0m\u001b[0m\n\u001b[0;32m---> 11\u001b[0;31m \u001b[0mmyset\u001b[0m\u001b[0;34m[\u001b[0m\u001b[0;36m1\u001b[0m\u001b[0;34m]\u001b[0m \u001b[0;34m=\u001b[0m \u001b[0;34m\"Hello\"\u001b[0m\u001b[0;34m\u001b[0m\u001b[0;34m\u001b[0m\u001b[0m\n\u001b[0m\u001b[1;32m     12\u001b[0m \u001b[0mprint\u001b[0m\u001b[0;34m(\u001b[0m\u001b[0mmyset\u001b[0m\u001b[0;34m)\u001b[0m\u001b[0;34m\u001b[0m\u001b[0;34m\u001b[0m\u001b[0m\n",
            "\u001b[0;31mTypeError\u001b[0m: 'set' object does not support item assignment"
          ]
        }
      ]
    },
    {
      "cell_type": "markdown",
      "source": [
        "**6. Discuss the use cases of tuples and sets in Python programming.**\n",
        "\n",
        "Ans - **Tuples:**\n",
        "\n",
        "**Description**: Ordered, immutable collections of elements, similar to lists. However, once created, the items in a tuple cannot be changed. They provide a secure way to store data that shouldn't be modified.\n",
        "\n",
        "**Operations**: You can access elements using indexing and slicing, but you cannot modify the content. Tuples are useful for representing fixed datasets or configurations.\n",
        "\n",
        "**Sets:**\n",
        "\n",
        "**Description:**\n",
        "Unordered collections of unique elements. The order doesn't matter, and duplicate entries are not allowed. Sets are useful for checking membership (if an item exists) or finding the intersection/difference between sets.\n",
        "\n",
        "**Operations**: You can add or remove elements from a set, but you cannot access elements by index (since order doesn't matter). Set operations like union (combining elements), intersection (finding common elements), and difference (finding elements in one set but not the other) are efficient."
      ],
      "metadata": {
        "id": "Hv9QBMuaZJ7v"
      }
    },
    {
      "cell_type": "markdown",
      "source": [
        "**7. Describe how to add, modify, and delete items in dictionary with examples.**\n",
        "\n",
        "Ans - **Add**: Use direct assignment (dictionary_name[key] = value) or .update() method."
      ],
      "metadata": {
        "id": "3V9_Yfp2asEZ"
      }
    },
    {
      "cell_type": "code",
      "source": [
        "#example\n",
        "thisdict = {\n",
        "  \"brand\": \"Ford\",\n",
        "  \"model\": \"Mustang\",\n",
        "  \"year\": 2024\n",
        "}\n",
        "thisdict[\"color\"] = \"black\"\n",
        "print(thisdict)"
      ],
      "metadata": {
        "colab": {
          "base_uri": "https://localhost:8080/"
        },
        "id": "BnYH-JOfdACN",
        "outputId": "43f1a927-b069-449f-abab-659e3d7230f3"
      },
      "execution_count": 33,
      "outputs": [
        {
          "output_type": "stream",
          "name": "stdout",
          "text": [
            "{'brand': 'Ford', 'model': 'Mustang', 'year': 2024, 'color': 'black'}\n"
          ]
        }
      ]
    },
    {
      "cell_type": "markdown",
      "source": [
        "- **Modify**: The update() method will modify the dictionary with the items from the given argument. The argument must be a dictionary, or an iterable object with key:value pairs."
      ],
      "metadata": {
        "id": "rcurEad-doGn"
      }
    },
    {
      "cell_type": "code",
      "source": [
        "#example\n",
        "thisdict = {\n",
        "  \"brand\": \"Ford\",\n",
        "  \"model\": \"Mustang\",\n",
        "  \"year\": 1964\n",
        "}\n",
        "thisdict.update({\"year\": 2024})\n",
        "print(thisdict)"
      ],
      "metadata": {
        "colab": {
          "base_uri": "https://localhost:8080/"
        },
        "id": "RubakAH2eUqe",
        "outputId": "30781c06-4aca-4bab-c2c0-ef6c92286aab"
      },
      "execution_count": 39,
      "outputs": [
        {
          "output_type": "stream",
          "name": "stdout",
          "text": [
            "{'brand': 'Ford', 'model': 'Mustang', 'year': 2024}\n"
          ]
        }
      ]
    },
    {
      "cell_type": "markdown",
      "source": [
        "- **Delete**: The del keyword removes the item with the specified key name:"
      ],
      "metadata": {
        "id": "yHJRaGwMe0jm"
      }
    },
    {
      "cell_type": "code",
      "source": [
        "thisdict = {\n",
        "  \"brand\": \"Ford\",\n",
        "  \"model\": \"Mustang\",\n",
        "  \"year\": 1964\n",
        "}\n",
        "del thisdict[\"model\"]\n",
        "print(thisdict)"
      ],
      "metadata": {
        "colab": {
          "base_uri": "https://localhost:8080/"
        },
        "id": "ckk1xDmQfSZs",
        "outputId": "c36f1ac2-991a-4967-cb31-3d8ebdc72416"
      },
      "execution_count": 40,
      "outputs": [
        {
          "output_type": "stream",
          "name": "stdout",
          "text": [
            "{'brand': 'Ford', 'year': 1964}\n"
          ]
        }
      ]
    },
    {
      "cell_type": "markdown",
      "source": [
        "**8. Discuss the importance of dictionary keys being immutable and provide examples.**\n",
        "\n",
        "Ans - Python dictionary keys must always be immutable, which means you can not update the dictionary key in runtime. But the Questions is Why Python dictionary keys should always be immutable ?\n",
        "\n",
        "Let’s run the below code and understand its output:"
      ],
      "metadata": {
        "id": "ROTQNHssfa4l"
      }
    },
    {
      "cell_type": "code",
      "source": [
        "mydict = { [1, 2]: '12' }\n",
        "print(mydict[[1, 2]])"
      ],
      "metadata": {
        "colab": {
          "base_uri": "https://localhost:8080/",
          "height": 159
        },
        "id": "qWhNRKJyhHCz",
        "outputId": "03fb7b5d-9c89-4036-cba3-a7ab59109cbe"
      },
      "execution_count": 41,
      "outputs": [
        {
          "output_type": "error",
          "ename": "TypeError",
          "evalue": "unhashable type: 'list'",
          "traceback": [
            "\u001b[0;31m---------------------------------------------------------------------------\u001b[0m",
            "\u001b[0;31mTypeError\u001b[0m                                 Traceback (most recent call last)",
            "\u001b[0;32m<ipython-input-41-0ab1e9141331>\u001b[0m in \u001b[0;36m<cell line: 1>\u001b[0;34m()\u001b[0m\n\u001b[0;32m----> 1\u001b[0;31m \u001b[0mmydict\u001b[0m \u001b[0;34m=\u001b[0m \u001b[0;34m{\u001b[0m \u001b[0;34m[\u001b[0m\u001b[0;36m1\u001b[0m\u001b[0;34m,\u001b[0m \u001b[0;36m2\u001b[0m\u001b[0;34m]\u001b[0m\u001b[0;34m:\u001b[0m \u001b[0;34m'12'\u001b[0m \u001b[0;34m}\u001b[0m\u001b[0;34m\u001b[0m\u001b[0;34m\u001b[0m\u001b[0m\n\u001b[0m\u001b[1;32m      2\u001b[0m \u001b[0mprint\u001b[0m\u001b[0;34m(\u001b[0m\u001b[0mmydict\u001b[0m\u001b[0;34m[\u001b[0m\u001b[0;34m[\u001b[0m\u001b[0;36m1\u001b[0m\u001b[0;34m,\u001b[0m \u001b[0;36m2\u001b[0m\u001b[0;34m]\u001b[0m\u001b[0;34m]\u001b[0m\u001b[0;34m)\u001b[0m\u001b[0;34m\u001b[0m\u001b[0;34m\u001b[0m\u001b[0m\n",
            "\u001b[0;31mTypeError\u001b[0m: unhashable type: 'list'"
          ]
        }
      ]
    },
    {
      "cell_type": "markdown",
      "source": [
        "So the output is an Exception, What does it mean by unhashable ?\n",
        "\n",
        "It simply means that the Python interpreter is not able to generate a hash for the key given in the dictionary, whose data type is a list."
      ],
      "metadata": {
        "id": "7DAGcQbyhUsI"
      }
    }
  ]
}