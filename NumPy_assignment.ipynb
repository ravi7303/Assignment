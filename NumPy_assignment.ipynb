{
  "nbformat": 4,
  "nbformat_minor": 0,
  "metadata": {
    "colab": {
      "provenance": []
    },
    "kernelspec": {
      "name": "python3",
      "display_name": "Python 3"
    },
    "language_info": {
      "name": "python"
    }
  },
  "cells": [
    {
      "cell_type": "markdown",
      "source": [
        "# **Theoretical Questions:**"
      ],
      "metadata": {
        "id": "BUC3oB_T918M"
      }
    },
    {
      "cell_type": "markdown",
      "source": [
        "\n",
        "**1. Explain the purpose and advantages of NumPy in scientific computing and data analysis. How does it enhance Python's capabilities for numerical operations?**\n",
        "\n",
        "Ans - NumPy is an indispensable tool for scientific computing, data analysis, and numerical computations in Python. Its ability to efficiently handle arrays, perform complex mathematical operations, and seamlessly integrate with other libraries solidifies its position as the cornerstone of numerical computing in Python.\n",
        "\n",
        "**2. Compare and contrast np.mean() and np.average() functions in NumPy. When would you use one over the other?**\n",
        "\n",
        "Ans - The np. mean() method returns the arithmetic mean, but the np. average() function returns the algebraic mean if no additional parameters are specified, but it may also be used to compute a weighted average\n",
        "\n",
        "**3. Describe the methods for reversing a NumPy array along different axes. Provide examples for 1D and 2D arrays.**\n",
        "\n",
        "Ans - As we know Numpy is a general-purpose array-processing package that provides a high-performance multidimensional array object, and tools for working with these arrays. Let’s discuss how can we reverse a Numpy array."
      ],
      "metadata": {
        "id": "2KngJU2NzFZY"
      }
    },
    {
      "cell_type": "code",
      "source": [
        "#example\n",
        "import numpy as np\n",
        "\n",
        "# initialising numpy array\n",
        "ini_array = np.array([1, 2, 3, 6, 4, 5])\n",
        "\n",
        "# using shortcut method to reverse\n",
        "res = np.flip(ini_array)\n",
        "\n",
        "# printing result\n",
        "print(\"final array\", str(res))\n"
      ],
      "metadata": {
        "colab": {
          "base_uri": "https://localhost:8080/"
        },
        "id": "1LuE5Z87zbOl",
        "outputId": "1e88c7b7-59c3-4612-fd90-c627cbe5a4ce"
      },
      "execution_count": 1,
      "outputs": [
        {
          "output_type": "stream",
          "name": "stdout",
          "text": [
            "final array [5 4 6 3 2 1]\n"
          ]
        }
      ]
    },
    {
      "cell_type": "markdown",
      "source": [
        "**4. How can you determine the data type of elements in a NumPy array? Discuss the importance of data types\n",
        "in memory management and performance.**\n",
        "\n",
        "ANS - We can check the datatype of Numpy array by using dtype. Then it returns the data type all the elements in the array. In the given example below we import NumPy library and craete an array using “array()” method with integer value. Then we store the data type of the array in a variable named “data_type” using the ‘dtype’ attribute, and after then we can finally, we print the data type.\n",
        "\n",
        "**5. Define ndarrays in NumPy and explain their key features. How do they differ from standard Python lists?**\n",
        "\n",
        "ANS - NumPy is the fundamental package for scientific computing in Python. Numpy arrays facilitate advanced mathematical and other types of operations on large numbers of data. Typically, such operations are executed more efficiently and with less code than is possible using Python’s built-in sequences. Numpy is not another programming language but a Python extension module. It provides fast and efficient operations on arrays of homogeneous data.\n",
        "\n",
        "**Some important points about Numpy arrays:**\n",
        "\n",
        "- We can create an N-dimensional array in Python using Numpy.array().\n",
        "- The array is by default Homogeneous, which means data inside an array must be of the same Datatype. (Note You can also create a structured array in Python).\n",
        "- Element-wise operation is possible.\n",
        "- Numpy array has various functions, methods, and variables, to ease our task of matrix computation.\n",
        "- Elements of an array are stored contiguously in memory. For example, all rows of a two-dimensioned array must have the same number of columns. A three-dimensional array must have the same number of rows and columns on each card.\n",
        "\n",
        "**Comparison between Numpy array and Python List**\n",
        "\n",
        "- Element Overhead: Lists in Python store additional information about each element, such as its type and reference count. This overhead can be significant when dealing with a large number of elements.\n",
        "\n",
        "- Datatype: Lists can hold different data types, but this can decrease memory efficiency and slow numerical operations.\n",
        "\n",
        "- Memory Fragmentation: Lists may not store elements in contiguous memory locations, causing memory fragmentation and inefficiency.\n",
        "\n",
        "- Performance: Lists are not optimized for numerical computations and may have slower mathematical operations due to Python’s interpretation overhead. They are generally used as general-purpose data structures.\n",
        "\n",
        "- Functionality: Lists can store any data type, but lack specialized NumPy functions for numerical operations."
      ],
      "metadata": {
        "id": "tm7vr94SzmCz"
      }
    },
    {
      "cell_type": "markdown",
      "source": [
        "**6. Analyze the performance benefits of NumPy arrays over Python lists for large-scale numerical operations.**\n",
        "\n",
        "Ans - Advantages of NumPy\n",
        "\n",
        "Performance: NumPy's array operations are executed at compiled C speed, making them significantly faster than equivalent operations performed using Python lists. This performance boost is vital for handling large datasets and complex computations efficiently."
      ],
      "metadata": {
        "id": "RnMUgUkn2R8u"
      }
    },
    {
      "cell_type": "markdown",
      "source": [
        "**7. Compare vstack() and hstack() functions in NumPy. Provide examples demonstrating their usage and\n",
        "output.**\n",
        "\n",
        "Ans - numpy.vstack() function is used to stack the sequence of input arrays vertically to make a single array.\n",
        "\n",
        "\n",
        "Syntax  :  numpy.vstack(tup)\n",
        "\n",
        "\n",
        "Parameters :\n",
        "\n",
        "tup   : [sequence of ndarrays] Tuple containing arrays to be stacked. The arrays must have the same shape along all but the first axis.\n",
        "\n",
        "\n",
        "Return  : [stacked ndarray] The stacked array of the input arrays."
      ],
      "metadata": {
        "id": "RbeK2GUI4IF4"
      }
    },
    {
      "cell_type": "code",
      "source": [
        "# Python program explaining\n",
        "# vstack() function\n",
        "\n",
        "import numpy as geek\n",
        "\n",
        "# input array\n",
        "in_arr1 = geek.array([ 1, 2, 3] )\n",
        "print (\"1st Input array : \\n\", in_arr1)\n",
        "\n",
        "in_arr2 = geek.array([ 4, 5, 6] )\n",
        "print (\"2nd Input array : \\n\", in_arr2)\n",
        "\n",
        "# Stacking the two arrays vertically\n",
        "out_arr = geek.vstack((in_arr1, in_arr2))\n",
        "print (\"Output vertically stacked array:\\n \", out_arr)\n"
      ],
      "metadata": {
        "colab": {
          "base_uri": "https://localhost:8080/"
        },
        "id": "qk6WGi-U6Hqd",
        "outputId": "263a4880-8286-470b-b7d8-c5a9e6e0db51"
      },
      "execution_count": 2,
      "outputs": [
        {
          "output_type": "stream",
          "name": "stdout",
          "text": [
            "1st Input array : \n",
            " [1 2 3]\n",
            "2nd Input array : \n",
            " [4 5 6]\n",
            "Output vertically stacked array:\n",
            "  [[1 2 3]\n",
            " [4 5 6]]\n"
          ]
        }
      ]
    },
    {
      "cell_type": "markdown",
      "source": [
        "numpy.hstack() function is used to stack the sequence of input arrays horizontally (i.e. column wise) to make a single array.\n",
        "\n",
        "\n",
        "Syntax  :  numpy.hstack(tup)\n",
        "\n",
        "\n",
        "Parameters :\n",
        "\n",
        "tup   : [sequence of ndarrays] Tuple containing arrays to be stacked. The arrays must have the same shape along all but the second axis.\n",
        "\n",
        "\n",
        "Return  : [stacked ndarray] The stacked array of the input arrays."
      ],
      "metadata": {
        "id": "02vJ9TQu6Owj"
      }
    },
    {
      "cell_type": "code",
      "source": [
        "# Python program explaining\n",
        "# hstack() function\n",
        "\n",
        "import numpy as geek\n",
        "\n",
        "# input array\n",
        "in_arr1 = geek.array([ 1, 2, 3] )\n",
        "print (\"1st Input array : \\n\", in_arr1)\n",
        "\n",
        "in_arr2 = geek.array([ 4, 5, 6] )\n",
        "print (\"2nd Input array : \\n\", in_arr2)\n",
        "\n",
        "# Stacking the two arrays horizontally\n",
        "out_arr = geek.hstack((in_arr1, in_arr2))\n",
        "print (\"Output horizontally stacked array:\\n \", out_arr)\n"
      ],
      "metadata": {
        "colab": {
          "base_uri": "https://localhost:8080/"
        },
        "id": "Cs9-lbbP6Yjm",
        "outputId": "d34f4f54-074a-4b2a-f65a-3109cafc4367"
      },
      "execution_count": 3,
      "outputs": [
        {
          "output_type": "stream",
          "name": "stdout",
          "text": [
            "1st Input array : \n",
            " [1 2 3]\n",
            "2nd Input array : \n",
            " [4 5 6]\n",
            "Output horizontally stacked array:\n",
            "  [1 2 3 4 5 6]\n"
          ]
        }
      ]
    },
    {
      "cell_type": "markdown",
      "source": [
        "**8. Explain the differences between fliplr() and flipud() methods in NumPy, including their effects on various\n",
        "array dimensions.**\n",
        "\n",
        "Ans - The main difference is that NumPy arrays are much faster and have strict requirements on the homogeneity of the objects. For example, a NumPy array of strings can only contain strings and no other data types, but a Python list can contain a mixture of strings, numbers, booleans and other objects.\n"
      ],
      "metadata": {
        "id": "NQgndy9U6fCT"
      }
    },
    {
      "cell_type": "markdown",
      "source": [
        "**9. Discuss the functionality of the array_split() method in NumPy. How does it handle uneven splits?**\n",
        "\n",
        "Ans - array_split() s plitting into equal or nearly equal sub-arrays or is similar to numpy. split(), but it allows for uneven splitting of arrays. This is useful when the array cannot be evenly divided by the specified number of splits."
      ],
      "metadata": {
        "id": "BPOmUT2Z8OuI"
      }
    },
    {
      "cell_type": "markdown",
      "source": [
        "**10. Explain the concepts of vectorization and broadcasting in NumPy. How do they contribute to efficient array\n",
        "operations?**\n",
        "\n",
        "Ans - Broadcasting provides a means of vectorizing array operations so that looping occurs in C instead of Python. It does this without making needless copies of data and usually leads to efficient algorithm implementations."
      ],
      "metadata": {
        "id": "-Nrrn72s8gl1"
      }
    },
    {
      "cell_type": "markdown",
      "source": [
        "# **Practical Questions:**\n"
      ],
      "metadata": {
        "id": "2WyI0P309LK1"
      }
    },
    {
      "cell_type": "markdown",
      "source": [
        "**1. Create a 3x3 NumPy array with random integers between 1 and 100. Then, interchange its rows and columns.**\n",
        "\n",
        "Ans -"
      ],
      "metadata": {
        "id": "jvMfwWfe9nJA"
      }
    },
    {
      "cell_type": "code",
      "source": [
        "import numpy as np\n",
        "random_matrix = np.random.randint(1,100,size=(3,3))\n",
        "print(random_matrix)"
      ],
      "metadata": {
        "colab": {
          "base_uri": "https://localhost:8080/"
        },
        "id": "dWPHjlti_X--",
        "outputId": "11e13256-5a4d-49af-8d0a-7568519279dd"
      },
      "execution_count": 4,
      "outputs": [
        {
          "output_type": "stream",
          "name": "stdout",
          "text": [
            "[[51 88 22]\n",
            " [53 78 18]\n",
            " [10 24 47]]\n"
          ]
        }
      ]
    },
    {
      "cell_type": "markdown",
      "source": [
        "**2. Generate a 1D NumPy array with 10 elements. Reshape it into a 2x5 array, then into a 5x2 array.**\n",
        "\n",
        "Ans -"
      ],
      "metadata": {
        "id": "Qbkzz0Os_hDN"
      }
    },
    {
      "cell_type": "code",
      "source": [
        "import numpy as np\n",
        "# 1-D array having elements [1 2 3 4 5 6 7 8 9 1]\n",
        "arr = np.array([1, 2, 3, 4, 5, 6, 7, 8, 9, 1])\n",
        "\n",
        "# Now we can convert this 1-D array into 2-D in two ways\n",
        "\n",
        "# 1. having dimension 2 x 5\n",
        "arr1 = arr.reshape(2, 5)\n",
        "print ('After reshaping having dimension 2x5:')\n",
        "print (arr1)\n",
        "print ('\\n')\n",
        "\n",
        "# 2. having dimension 5 x 2\n",
        "arr2 = arr.reshape(5, 2)\n",
        "print ('After reshaping having dimension 5x2:')\n",
        "print (arr2)\n",
        "print ('\\n')\n"
      ],
      "metadata": {
        "colab": {
          "base_uri": "https://localhost:8080/"
        },
        "id": "Jv9uCH_lAL7B",
        "outputId": "6161e661-0638-4f4b-e8cc-fd2becd90a4b"
      },
      "execution_count": 7,
      "outputs": [
        {
          "output_type": "stream",
          "name": "stdout",
          "text": [
            "After reshaping having dimension 2x5:\n",
            "[[1 2 3 4 5]\n",
            " [6 7 8 9 1]]\n",
            "\n",
            "\n",
            "After reshaping having dimension 5x2:\n",
            "[[1 2]\n",
            " [3 4]\n",
            " [5 6]\n",
            " [7 8]\n",
            " [9 1]]\n",
            "\n",
            "\n"
          ]
        }
      ]
    },
    {
      "cell_type": "markdown",
      "source": [
        "**3. Create a 4x4 NumPy array with random float values. Add a border of zeros around it, resulting in a 6x6 array.**\n",
        "\n",
        "Ans -"
      ],
      "metadata": {
        "id": "3Y4CeKD9BAS5"
      }
    },
    {
      "cell_type": "code",
      "source": [
        "import numpy as np\n",
        "from math import sqrt\n",
        "\n",
        "#  Element 1\n",
        "C_1= 3/5\n",
        "S_1= 4/5\n",
        "matrix_1 = np.matrix([[C_1**2, C_1*S_1,-C_1**2,-C_1*S_1],[C_1*S_1,S_1**2,-C_1*S_1,-S_1**2],\n",
        "                    [-C_1**2,-C_1*S_1,C_1**2,C_1*S_1],[-C_1*S_1,-S_1**2,C_1*S_1,S_1**2]])\n",
        "empty_mat1 = np.zeros((6,6))\n",
        "empty_mat1[0:4 , 0:4] = empty_mat1[0:4 ,0:4] + matrix_1\n",
        "#print(empty_mat1)\n",
        "# Element 2\n",
        "\n",
        "C_2 = 0\n",
        "S_2 = 1\n",
        "matrix_2 = 1.25*np.matrix([[C_2**2, C_2*S_2,-C_2**2,-C_2*S_2],[C_2*S_2,S_2**2,-C_2*S_2,-S_2**2],\n",
        "                    [-C_2**2,-C_2*S_2,C_2**2,C_2*S_2],[-C_2*S_2,-S_2**2,C_2*S_2,S_2**2]])\n",
        "empty_mat2 = np.zeros((6,6))\n",
        "empty_mat2[0:2,0:2] = empty_mat2[0:2,0:2] + matrix_2[0:2,0:2]\n",
        "empty_mat2[4:6,0:2] = empty_mat2[4:6,0:2] + matrix_2[2:4,0:2]\n",
        "empty_mat2[0:2,4:6] = empty_mat2[0:2,4:6] + matrix_2[2:4,2:4]\n",
        "empty_mat2[4:6,4:6] = empty_mat2[4:6,4:6] + matrix_2[0:2,0:2]\n",
        "\n",
        "print(empty_mat1+empty_mat2)"
      ],
      "metadata": {
        "colab": {
          "base_uri": "https://localhost:8080/"
        },
        "id": "B8MMZWmBBu_t",
        "outputId": "19276ae4-1ab5-4adc-cb75-d91c0d8f6e96"
      },
      "execution_count": 8,
      "outputs": [
        {
          "output_type": "stream",
          "name": "stdout",
          "text": [
            "[[ 0.36  0.48 -0.36 -0.48  0.    0.  ]\n",
            " [ 0.48  1.89 -0.48 -0.64  0.    1.25]\n",
            " [-0.36 -0.48  0.36  0.48  0.    0.  ]\n",
            " [-0.48 -0.64  0.48  0.64  0.    0.  ]\n",
            " [ 0.    0.    0.    0.    0.    0.  ]\n",
            " [ 0.   -1.25  0.    0.    0.    1.25]]\n"
          ]
        }
      ]
    },
    {
      "cell_type": "markdown",
      "source": [
        "**4. Using NumPy, create an array of integers from 10 to 60 with a step of 5.**\n",
        "\n",
        "Ans -"
      ],
      "metadata": {
        "id": "b7OCV4nEBx1b"
      }
    },
    {
      "cell_type": "code",
      "source": [
        "# Importing the NumPy library with an alias 'np'\n",
        "import numpy as np\n",
        "\n",
        "# Creating an array of integers from 10 to 60 using np.arange()\n",
        "array = np.arange(10, 60)\n",
        "\n",
        "# Printing a message indicating an array of integers from 10 to 60\n",
        "print(\"Array of the integers from 10 to 60\")\n",
        "\n",
        "# Printing the array of integers from 10 to 60\n",
        "print(array)"
      ],
      "metadata": {
        "colab": {
          "base_uri": "https://localhost:8080/"
        },
        "id": "lEfEMmMqCJbp",
        "outputId": "0e74666b-0f2c-472a-8b27-6c113cd8ce24"
      },
      "execution_count": 9,
      "outputs": [
        {
          "output_type": "stream",
          "name": "stdout",
          "text": [
            "Array of the integers from 10 to 60\n",
            "[10 11 12 13 14 15 16 17 18 19 20 21 22 23 24 25 26 27 28 29 30 31 32 33\n",
            " 34 35 36 37 38 39 40 41 42 43 44 45 46 47 48 49 50 51 52 53 54 55 56 57\n",
            " 58 59]\n"
          ]
        }
      ]
    },
    {
      "cell_type": "markdown",
      "source": [
        "**5. Create a NumPy array of strings ['python', 'numpy', 'pandas']. Apply different case transformations\n",
        "(uppercase, lowercase, title case, etc.) to each element.**\n",
        "\n",
        "Ans -"
      ],
      "metadata": {
        "id": "Ru7-dLI5CXoO"
      }
    },
    {
      "cell_type": "code",
      "source": [
        "# Importing necessary library\n",
        "import numpy as np\n",
        "\n",
        "# Creating a NumPy array containing strings\n",
        "x = np.array(['Python', 'numpy', 'pandas', 'Examples'], dtype=str)\n",
        "\n",
        "# Displaying the content of the original array\n",
        "print(\"\\nOriginal Array:\")\n",
        "print(x)\n",
        "\n",
        "# Checking if each element contains digits only\n",
        "r1 = np.char.isdigit(x)\n",
        "\n",
        "# Checking if each element contains lower case letters only\n",
        "r2 = np.char.islower(x)\n",
        "\n",
        "# Checking if each element contains upper case letters only\n",
        "r3 = np.char.isupper(x)\n",
        "\n",
        "# Displaying results\n",
        "print(\"Digits only =\", r1)\n",
        "print(\"Lower cases only =\", r2)\n",
        "print(\"Upper cases only =\", r3)\n"
      ],
      "metadata": {
        "colab": {
          "base_uri": "https://localhost:8080/"
        },
        "id": "DXImygqrI71s",
        "outputId": "96873985-344f-4e90-de9c-27e41deb7648"
      },
      "execution_count": 14,
      "outputs": [
        {
          "output_type": "stream",
          "name": "stdout",
          "text": [
            "\n",
            "Original Array:\n",
            "['Python' 'numpy' 'pandas' 'Examples']\n",
            "Digits only = [False False False False]\n",
            "Lower cases only = [False  True  True False]\n",
            "Upper cases only = [False False False False]\n"
          ]
        }
      ]
    },
    {
      "cell_type": "markdown",
      "source": [
        "**6. Generate a NumPy array of words. Insert a space between each character of every word in the array.**\n",
        "\n",
        "Ans -"
      ],
      "metadata": {
        "id": "AhdImkALJpFX"
      }
    },
    {
      "cell_type": "code",
      "source": [
        "# Importing necessary library\n",
        "import numpy as np\n",
        "\n",
        "# Creating a NumPy array containing strings\n",
        "x = np.array(['python exercises', 'PHP', 'java', 'C++'], dtype=str)\n",
        "\n",
        "# Displaying the original array\n",
        "print(\"Original Array:\")\n",
        "print(x)\n",
        "\n",
        "# Using np.char.join to join elements of the array with a space character\n",
        "r = np.char.join(\" \", x)\n",
        "\n",
        "# Displaying the result after joining elements with a space\n",
        "print(r)\n"
      ],
      "metadata": {
        "colab": {
          "base_uri": "https://localhost:8080/"
        },
        "id": "AAN1QMVSJ6St",
        "outputId": "71097bd7-c2f4-4099-886c-ec35a88af988"
      },
      "execution_count": 16,
      "outputs": [
        {
          "output_type": "stream",
          "name": "stdout",
          "text": [
            "Original Array:\n",
            "['python exercises' 'PHP' 'java' 'C++']\n",
            "['p y t h o n   e x e r c i s e s' 'P H P' 'j a v a' 'C + +']\n"
          ]
        }
      ]
    },
    {
      "cell_type": "markdown",
      "source": [
        "**7. Create two 2D NumPy arrays and perform element-wise addition, subtraction, multiplication, and division.**\n",
        "\n",
        "Ans -"
      ],
      "metadata": {
        "id": "H0iua_ozKMBN"
      }
    },
    {
      "cell_type": "code",
      "source": [
        "# Importing the NumPy library\n",
        "import numpy as np\n",
        "\n",
        "# Displaying a message for addition operation\n",
        "print(\"Add:\")\n",
        "# Performing addition\n",
        "print(np.add(1.0, 4.0))\n",
        "\n",
        "# Displaying a message for subtraction operation\n",
        "print(\"Subtract:\")\n",
        "# Performing subtraction\n",
        "print(np.subtract(1.0, 4.0))\n",
        "\n",
        "# Displaying a message for multiplication operation\n",
        "print(\"Multiply:\")\n",
        "# Performing multiplication\n",
        "print(np.multiply(1.0, 4.0))\n",
        "\n",
        "# Displaying a message for division operation\n",
        "print(\"Divide:\")\n",
        "# Performing division\n",
        "print(np.divide(1.0, 4.0))\n"
      ],
      "metadata": {
        "colab": {
          "base_uri": "https://localhost:8080/"
        },
        "id": "XA19mM0fKfcU",
        "outputId": "99633886-9e43-47e9-9cfb-7518ce6713f4"
      },
      "execution_count": 17,
      "outputs": [
        {
          "output_type": "stream",
          "name": "stdout",
          "text": [
            "Add:\n",
            "5.0\n",
            "Subtract:\n",
            "-3.0\n",
            "Multiply:\n",
            "4.0\n",
            "Divide:\n",
            "0.25\n"
          ]
        }
      ]
    },
    {
      "cell_type": "markdown",
      "source": [
        "**8. Use NumPy to create a 5x5 identity matrix, then extract its diagonal elements**\n",
        "\n",
        "Ans - This problem involves writing a NumPy program to generate a 5x5 matrix where all elements are initially set to zero, except for the main diagonal, which is filled with the values 1, 2, 3, 4, and 5. The task requires utilizing NumPy's array manipulation capabilities to efficiently construct and modify the matrix, ensuring the specified values are placed correctly on the diagonal. The resulting matrix combines elements of identity matrices with custom diagonal values."
      ],
      "metadata": {
        "id": "F24lEV9EKhwu"
      }
    },
    {
      "cell_type": "code",
      "source": [
        "# Importing the NumPy library with an alias 'np'\n",
        "import numpy as np\n",
        "\n",
        "# Creating a diagonal matrix with diagonal elements 1, 2, 3, 4, 5 using np.diag()\n",
        "x = np.diag([1, 2, 3, 4, 5])\n",
        "\n",
        "# Printing the diagonal matrix 'x'\n",
        "print(x)\n"
      ],
      "metadata": {
        "colab": {
          "base_uri": "https://localhost:8080/"
        },
        "id": "nU-evDcIK3Sr",
        "outputId": "af53d9df-0d3d-4bf3-d414-5db70096b8bb"
      },
      "execution_count": 18,
      "outputs": [
        {
          "output_type": "stream",
          "name": "stdout",
          "text": [
            "[[1 0 0 0 0]\n",
            " [0 2 0 0 0]\n",
            " [0 0 3 0 0]\n",
            " [0 0 0 4 0]\n",
            " [0 0 0 0 5]]\n"
          ]
        }
      ]
    },
    {
      "cell_type": "markdown",
      "source": [
        "**9. Generate a NumPy array of 100 random integers between 0 and 1000. Find and display all prime numbers in\n",
        "this array.**\n",
        "\n",
        "Ans -"
      ],
      "metadata": {
        "id": "bXCrRRsWK8VS"
      }
    },
    {
      "cell_type": "code",
      "source": [
        "from numpy import random\n",
        "\n",
        "x=random.randint(1000, size=(100))\n",
        "\n",
        "print(x)"
      ],
      "metadata": {
        "colab": {
          "base_uri": "https://localhost:8080/"
        },
        "id": "2A-yF7DhPAl9",
        "outputId": "b49d3b5c-5898-40ab-e97d-1fe132108fb9"
      },
      "execution_count": 25,
      "outputs": [
        {
          "output_type": "stream",
          "name": "stdout",
          "text": [
            "[103 769 573 505 871 631 980 129 145 108 104 197 323 674 209 968 759 868\n",
            " 877 969 163 444  23 366 629 878 195 436 451 951 111 223 178 541 764 575\n",
            " 380 141 967  45  83 589 537 712 588  59 364 560 433 272 858 269 584 633\n",
            "  86 792 397 146 802 470 344 147 589 856 564 491 588 733 895 403 324 817\n",
            " 664 994 406  11 785 388  57 479 175 985 581 169 920 392 186 770 240 786\n",
            " 203 649 949 715 663 685 913 278 362 863]\n"
          ]
        }
      ]
    },
    {
      "cell_type": "code",
      "source": [
        "for num in range(1,1000):\n",
        "   if num > 1:\n",
        "       for i in range(2,num):\n",
        "           if (num % i) == 0:\n",
        "               break\n",
        "       else:\n",
        "           print(f\"{num} is a prime number!\")"
      ],
      "metadata": {
        "colab": {
          "base_uri": "https://localhost:8080/"
        },
        "id": "ZGRN98TWPFNI",
        "outputId": "2d3ea32d-fdb9-43cd-ee8f-b0eede4534c3"
      },
      "execution_count": 26,
      "outputs": [
        {
          "output_type": "stream",
          "name": "stdout",
          "text": [
            "2 is a prime number!\n",
            "3 is a prime number!\n",
            "5 is a prime number!\n",
            "7 is a prime number!\n",
            "11 is a prime number!\n",
            "13 is a prime number!\n",
            "17 is a prime number!\n",
            "19 is a prime number!\n",
            "23 is a prime number!\n",
            "29 is a prime number!\n",
            "31 is a prime number!\n",
            "37 is a prime number!\n",
            "41 is a prime number!\n",
            "43 is a prime number!\n",
            "47 is a prime number!\n",
            "53 is a prime number!\n",
            "59 is a prime number!\n",
            "61 is a prime number!\n",
            "67 is a prime number!\n",
            "71 is a prime number!\n",
            "73 is a prime number!\n",
            "79 is a prime number!\n",
            "83 is a prime number!\n",
            "89 is a prime number!\n",
            "97 is a prime number!\n",
            "101 is a prime number!\n",
            "103 is a prime number!\n",
            "107 is a prime number!\n",
            "109 is a prime number!\n",
            "113 is a prime number!\n",
            "127 is a prime number!\n",
            "131 is a prime number!\n",
            "137 is a prime number!\n",
            "139 is a prime number!\n",
            "149 is a prime number!\n",
            "151 is a prime number!\n",
            "157 is a prime number!\n",
            "163 is a prime number!\n",
            "167 is a prime number!\n",
            "173 is a prime number!\n",
            "179 is a prime number!\n",
            "181 is a prime number!\n",
            "191 is a prime number!\n",
            "193 is a prime number!\n",
            "197 is a prime number!\n",
            "199 is a prime number!\n",
            "211 is a prime number!\n",
            "223 is a prime number!\n",
            "227 is a prime number!\n",
            "229 is a prime number!\n",
            "233 is a prime number!\n",
            "239 is a prime number!\n",
            "241 is a prime number!\n",
            "251 is a prime number!\n",
            "257 is a prime number!\n",
            "263 is a prime number!\n",
            "269 is a prime number!\n",
            "271 is a prime number!\n",
            "277 is a prime number!\n",
            "281 is a prime number!\n",
            "283 is a prime number!\n",
            "293 is a prime number!\n",
            "307 is a prime number!\n",
            "311 is a prime number!\n",
            "313 is a prime number!\n",
            "317 is a prime number!\n",
            "331 is a prime number!\n",
            "337 is a prime number!\n",
            "347 is a prime number!\n",
            "349 is a prime number!\n",
            "353 is a prime number!\n",
            "359 is a prime number!\n",
            "367 is a prime number!\n",
            "373 is a prime number!\n",
            "379 is a prime number!\n",
            "383 is a prime number!\n",
            "389 is a prime number!\n",
            "397 is a prime number!\n",
            "401 is a prime number!\n",
            "409 is a prime number!\n",
            "419 is a prime number!\n",
            "421 is a prime number!\n",
            "431 is a prime number!\n",
            "433 is a prime number!\n",
            "439 is a prime number!\n",
            "443 is a prime number!\n",
            "449 is a prime number!\n",
            "457 is a prime number!\n",
            "461 is a prime number!\n",
            "463 is a prime number!\n",
            "467 is a prime number!\n",
            "479 is a prime number!\n",
            "487 is a prime number!\n",
            "491 is a prime number!\n",
            "499 is a prime number!\n",
            "503 is a prime number!\n",
            "509 is a prime number!\n",
            "521 is a prime number!\n",
            "523 is a prime number!\n",
            "541 is a prime number!\n",
            "547 is a prime number!\n",
            "557 is a prime number!\n",
            "563 is a prime number!\n",
            "569 is a prime number!\n",
            "571 is a prime number!\n",
            "577 is a prime number!\n",
            "587 is a prime number!\n",
            "593 is a prime number!\n",
            "599 is a prime number!\n",
            "601 is a prime number!\n",
            "607 is a prime number!\n",
            "613 is a prime number!\n",
            "617 is a prime number!\n",
            "619 is a prime number!\n",
            "631 is a prime number!\n",
            "641 is a prime number!\n",
            "643 is a prime number!\n",
            "647 is a prime number!\n",
            "653 is a prime number!\n",
            "659 is a prime number!\n",
            "661 is a prime number!\n",
            "673 is a prime number!\n",
            "677 is a prime number!\n",
            "683 is a prime number!\n",
            "691 is a prime number!\n",
            "701 is a prime number!\n",
            "709 is a prime number!\n",
            "719 is a prime number!\n",
            "727 is a prime number!\n",
            "733 is a prime number!\n",
            "739 is a prime number!\n",
            "743 is a prime number!\n",
            "751 is a prime number!\n",
            "757 is a prime number!\n",
            "761 is a prime number!\n",
            "769 is a prime number!\n",
            "773 is a prime number!\n",
            "787 is a prime number!\n",
            "797 is a prime number!\n",
            "809 is a prime number!\n",
            "811 is a prime number!\n",
            "821 is a prime number!\n",
            "823 is a prime number!\n",
            "827 is a prime number!\n",
            "829 is a prime number!\n",
            "839 is a prime number!\n",
            "853 is a prime number!\n",
            "857 is a prime number!\n",
            "859 is a prime number!\n",
            "863 is a prime number!\n",
            "877 is a prime number!\n",
            "881 is a prime number!\n",
            "883 is a prime number!\n",
            "887 is a prime number!\n",
            "907 is a prime number!\n",
            "911 is a prime number!\n",
            "919 is a prime number!\n",
            "929 is a prime number!\n",
            "937 is a prime number!\n",
            "941 is a prime number!\n",
            "947 is a prime number!\n",
            "953 is a prime number!\n",
            "967 is a prime number!\n",
            "971 is a prime number!\n",
            "977 is a prime number!\n",
            "983 is a prime number!\n",
            "991 is a prime number!\n",
            "997 is a prime number!\n"
          ]
        }
      ]
    },
    {
      "cell_type": "markdown",
      "source": [
        "**10. Create a NumPy array representing daily temperatures for a month. Calculate and display the weekly\n",
        "averages.**\n",
        "\n",
        "Ans -"
      ],
      "metadata": {
        "id": "IXHxZ4b7PLkB"
      }
    },
    {
      "cell_type": "code",
      "source": [
        "week_days = [\"Monday\", \"Tuesday\", \"Wednesday\", \"Thursday\", \"Friday\", \"Saturday\", \"Sunday\"]\n",
        "\n",
        "print (\"Day\" + (\" \"*12) + \"High Temperature\")\n",
        "print (\"-\"*30)\n",
        "temperature = []\n",
        "temp = 0\n",
        "spaces = 0\n",
        "\n",
        "for i,x in enumerate(week_days):\n",
        "    temp_input = input (\"Enter the temperature for\" +x+str(\":\"))\n",
        "    temperature.append(int(temp_input))\n",
        "    spaces = 15-len(x)\n",
        "    print (x,\" \"*spaces,temperature[i])\n",
        "\n",
        "avg= sum(temperature)//len(week_days)\n",
        "\n",
        "\n",
        "print (\"The average temperature for this week is\", avg)"
      ],
      "metadata": {
        "colab": {
          "base_uri": "https://localhost:8080/"
        },
        "id": "J6i69WmkSkaB",
        "outputId": "982b0670-4b0f-46f1-aea1-d2984927d9f8"
      },
      "execution_count": 38,
      "outputs": [
        {
          "output_type": "stream",
          "name": "stdout",
          "text": [
            "Day            High Temperature\n",
            "------------------------------\n",
            "Enter the temperature forMonday:37\n",
            "Monday           37\n",
            "Enter the temperature forTuesday:38\n",
            "Tuesday          38\n",
            "Enter the temperature forWednesday:39\n",
            "Wednesday        39\n",
            "Enter the temperature forThursday:40\n",
            "Thursday         40\n",
            "Enter the temperature forFriday:41\n",
            "Friday           41\n",
            "Enter the temperature forSaturday:42\n",
            "Saturday         42\n",
            "Enter the temperature forSunday:43\n",
            "Sunday           43\n",
            "The average temperature for this week is 40\n"
          ]
        }
      ]
    }
  ]
}