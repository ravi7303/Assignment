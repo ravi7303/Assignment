{
  "nbformat": 4,
  "nbformat_minor": 0,
  "metadata": {
    "colab": {
      "provenance": []
    },
    "kernelspec": {
      "name": "python3",
      "display_name": "Python 3"
    },
    "language_info": {
      "name": "python"
    }
  },
  "cells": [
    {
      "cell_type": "code",
      "execution_count": null,
      "metadata": {
        "id": "zTlLC2cqu1Nv"
      },
      "outputs": [],
      "source": []
    },
    {
      "cell_type": "markdown",
      "source": [
        "**1. What are the five key concepts of Object-Oriented Programming (OOP)?**\n",
        "\n",
        "Ans- The five key concepts of Object-Oriented Programming (OOP) in Python are:\n",
        " *  **Inheritance-** Allows classes to inherit properties and functions from other classes. This helps reuse code and develop a hierarchical structure among classes.\n",
        " *  **Polymorphism-** Allows objects of different classes to be treated as objects of a common base class. This allows code to work with objects without knowing their exact types.\n",
        " * **Encapsulation-** Combines data and methods within a class to protect the data from external interference.\n",
        " * **Abstraction-** Simplifies complex reality by modeling classes on essential properties and behaviors.\n",
        " *  **Constructor-**In Python, a constructor is made with the init() method, and it is automatically called when a new object is created."
      ],
      "metadata": {
        "id": "33L_W_PdvAKh"
      }
    },
    {
      "cell_type": "markdown",
      "source": [
        "**2. Write a Python class for a `Car` with attributes for `make`, `model`, and `year`. Include a method to display\n",
        "the car's information.**\n",
        "\n",
        "**Ans-**"
      ],
      "metadata": {
        "id": "p5QH4KxPxT4H"
      }
    },
    {
      "cell_type": "code",
      "source": [
        "#example\n",
        "thisdict = {\n",
        "  \"make\": \"Ford\",\n",
        "  \"model\": \"Mustang\",\n",
        "  \"year\": 1964\n",
        "}\n",
        "thisdict.update({\"year\": 2024})\n",
        "print(thisdict)"
      ],
      "metadata": {
        "colab": {
          "base_uri": "https://localhost:8080/"
        },
        "id": "lPDbrcOrM3AC",
        "outputId": "6f126ae4-c242-43c7-abfc-d91ed4ea0a10"
      },
      "execution_count": 36,
      "outputs": [
        {
          "output_type": "stream",
          "name": "stdout",
          "text": [
            "{'make': 'Ford', 'model': 'Mustang', 'year': 2024}\n"
          ]
        }
      ]
    },
    {
      "cell_type": "markdown",
      "source": [
        "**3. Explain the difference between instance methods and class methods. Provide an example of each**.\n",
        "\n",
        "**Ans-**The main difference between instance methods and class methods is that instance methods are specific to an object, whileclass methods are not:\n",
        " *  **Instance methods-**These methods are specific to an object and can access both class and instance attributes. They are the default choice for most methods within a class. Instance methods are used when the method's behavior depends on the state of a specific instance.\n",
        "\n",
        "\n"
      ],
      "metadata": {
        "id": "SQIgAsy3zfLO"
      }
    },
    {
      "cell_type": "code",
      "source": [
        "class Person:\n",
        "    def __init__(self, name, age):\n",
        "        self.name = name\n",
        "        self.age = age\n",
        "\n",
        "    def introduce(self):\n",
        "        return f\"Hi, I'm {self.name} and I'm {self.age} years old.\"\n",
        "\n",
        "\n",
        "# Creating an instance of the class\n",
        "person1 = Person(\"Rahul\", 20)\n",
        "\n",
        "# Calling the instance method\n",
        "print(person1.introduce())  # Output: Hi, I'm Rahul and"
      ],
      "metadata": {
        "colab": {
          "base_uri": "https://localhost:8080/"
        },
        "id": "sWnm7pRT0cmy",
        "outputId": "fdc80b1e-f527-4ddc-9fa0-ac0fac2e654b"
      },
      "execution_count": 1,
      "outputs": [
        {
          "output_type": "stream",
          "name": "stdout",
          "text": [
            "Hi, I'm Rahul and I'm 20 years old.\n"
          ]
        }
      ]
    },
    {
      "cell_type": "markdown",
      "source": [
        "*  **Class Method-**These methods are not specific to an object and can access class attributes, but not instance attributes. Class methods are used when the method needs to access or modify class-level attributes."
      ],
      "metadata": {
        "id": "DVUl1G4q1GDu"
      }
    },
    {
      "cell_type": "code",
      "source": [
        "#Example\n",
        "class MyClass:\n",
        "    class_variable = 0\n",
        "\n",
        "    def __init__(self, value):\n",
        "        self.instance_variable = value\n",
        "\n",
        "    @classmethod\n",
        "    def class_method(cls, x):\n",
        "        cls.class_variable += x\n",
        "        return cls.class_variable\n",
        "\n",
        "# Creating instances of the class\n",
        "obj1 = MyClass(5)\n",
        "obj2 = MyClass(10)\n",
        "\n",
        "# Calling the class method\n",
        "print(MyClass.class_method(3))  # Output: 8\n",
        "print(MyClass.class_method(7))  # Output: 19"
      ],
      "metadata": {
        "colab": {
          "base_uri": "https://localhost:8080/"
        },
        "id": "4EYTWT9u1Rzl",
        "outputId": "4c50a9b7-1895-4c1c-b29f-0784ca79df1b"
      },
      "execution_count": 2,
      "outputs": [
        {
          "output_type": "stream",
          "name": "stdout",
          "text": [
            "3\n",
            "10\n"
          ]
        }
      ]
    },
    {
      "cell_type": "markdown",
      "source": [
        "**4. How does Python implement method overloading? Give an example.**\n",
        "\n",
        "**Ans-**  Two or more methods have the same name but different numbers of parameters or different types of parameters, or both. These methods are called overloaded methods and this is called method overloading."
      ],
      "metadata": {
        "id": "JV2y0gtj1gat"
      }
    },
    {
      "cell_type": "code",
      "source": [
        "#Example\n",
        "# First product method.\n",
        "# Takes two argument and print their\n",
        "# product\n",
        "\n",
        "\n",
        "def product(a, b):\n",
        "    p = a * b\n",
        "    print(p)\n",
        "\n",
        "# Second product method\n",
        "# Takes three argument and print their\n",
        "# product\n",
        "\n",
        "\n",
        "def product(a, b, c):\n",
        "    p = a * b*c\n",
        "    print(p)\n",
        "\n",
        "# Uncommenting the below line shows an error\n",
        "# product(4, 5)\n",
        "\n",
        "\n",
        "# This line will call the second product method\n",
        "product(4, 5, 5)\n"
      ],
      "metadata": {
        "colab": {
          "base_uri": "https://localhost:8080/"
        },
        "id": "ugICCcwT2CvO",
        "outputId": "3434ef1e-5d0f-422c-99e5-8bbab4d64ab0"
      },
      "execution_count": 3,
      "outputs": [
        {
          "output_type": "stream",
          "name": "stdout",
          "text": [
            "100\n"
          ]
        }
      ]
    },
    {
      "cell_type": "code",
      "source": [
        "#Example\n",
        "# Function to take multiple arguments\n",
        "def add(datatype, *args):\n",
        "\n",
        "    # if datatype is int\n",
        "    # initialize answer as 0\n",
        "    if datatype == 'int':\n",
        "        answer = 0\n",
        "\n",
        "    # if datatype is str\n",
        "    # initialize answer as ''\n",
        "    if datatype == 'rahul':\n",
        "        answer = ''\n",
        "\n",
        "    # Traverse through the arguments\n",
        "    for x in args:\n",
        "\n",
        "        # This will do addition if the\n",
        "        # arguments are int. Or concatenation\n",
        "        # if the arguments are str\n",
        "        answer = answer + x\n",
        "\n",
        "    print(answer)\n",
        "\n",
        "\n",
        "# Integer\n",
        "add('int', 5, 6)\n",
        "\n",
        "# String\n",
        "add('rahul', 'trader ', 'limted')\n"
      ],
      "metadata": {
        "colab": {
          "base_uri": "https://localhost:8080/"
        },
        "id": "SEttEteG2ivV",
        "outputId": "9ac7a4f6-10ad-4172-e94c-357b2603ac8d"
      },
      "execution_count": 6,
      "outputs": [
        {
          "output_type": "stream",
          "name": "stdout",
          "text": [
            "11\n",
            "trader limted\n"
          ]
        }
      ]
    },
    {
      "cell_type": "markdown",
      "source": [
        "**5. What are the three types of access modifiers in Python? How are they denoted?**\n",
        "\n",
        "**Ans-** The three types of access modifiers in Python are public, protected, and private, and they are denoted by prefixing the name of the variable or method with a single underscore () or double underscore (_):\n",
        "* **Public-**\n",
        "The least restrictive modifier, allowing access to members from anywhere in the program.\n",
        "*  **Protected-**\n",
        "Allows members to be accessed by members within a class or by its subclasses.\n",
        "* **Private-**\n",
        "The most restrictive modifier, limiting access to members within the same class."
      ],
      "metadata": {
        "id": "X0TKVwpe27T3"
      }
    },
    {
      "cell_type": "markdown",
      "source": [
        "**6. Describe the five types of inheritance in Python. Provide a simple example of multiple inheritance.**\n",
        "\n",
        "**Ans-** **Single Inheritance:** Single inheritance enables a derived class to inherit properties from a single parent class, thus enabling code reusability and the addition of new features to existing code.\n",
        "\n",
        "\n"
      ],
      "metadata": {
        "id": "T8DhTa0D3jSv"
      }
    },
    {
      "cell_type": "code",
      "source": [
        "#Example\n",
        "# Python program to demonstrate\n",
        "# single inheritance\n",
        "\n",
        "# Base class\n",
        "class Parent:\n",
        "\tdef func1(self):\n",
        "\t\tprint(\"This function is in parent class.\")\n",
        "\n",
        "# Derived class\n",
        "\n",
        "\n",
        "class Child(Parent):\n",
        "\tdef func2(self):\n",
        "\t\tprint(\"This function is in child class.\")\n",
        "\n",
        "\n",
        "# Driver's code\n",
        "object = Child()\n",
        "object.func1()\n",
        "object.func2()\n"
      ],
      "metadata": {
        "colab": {
          "base_uri": "https://localhost:8080/"
        },
        "id": "L2-JDo6H7I6d",
        "outputId": "afba477f-8f26-41e1-f61d-4833bcc0775e"
      },
      "execution_count": 7,
      "outputs": [
        {
          "output_type": "stream",
          "name": "stdout",
          "text": [
            "This function is in parent class.\n",
            "This function is in child class.\n"
          ]
        }
      ]
    },
    {
      "cell_type": "markdown",
      "source": [
        "*  **Multiple Inheritance**: When a class can be derived from more than one base class this type of inheritance is called multiple inheritances. In multiple inheritances, all the features of the base classes are inherited into the derived class."
      ],
      "metadata": {
        "id": "ALHA3-Zz7PGc"
      }
    },
    {
      "cell_type": "code",
      "source": [
        "#Example\n",
        "# Python program to demonstrate\n",
        "# multiple inheritance\n",
        "\n",
        "# Base class1\n",
        "class Mother:\n",
        "\tmothername = \"\"\n",
        "\n",
        "\tdef mother(self):\n",
        "\t\tprint(self.mothername)\n",
        "\n",
        "# Base class2\n",
        "\n",
        "\n",
        "class Father:\n",
        "\tfathername = \"\"\n",
        "\n",
        "\tdef father(self):\n",
        "\t\tprint(self.fathername)\n",
        "\n",
        "# Derived class\n",
        "\n",
        "\n",
        "class Son(Mother, Father):\n",
        "\tdef parents(self):\n",
        "\t\tprint(\"Father :\", self.fathername)\n",
        "\t\tprint(\"Mother :\", self.mothername)\n",
        "\n",
        "\n",
        "# Driver's code\n",
        "s1 = Son()\n",
        "s1.fathername = \"RAM\"\n",
        "s1.mothername = \"SITA\"\n",
        "s1.parents()\n"
      ],
      "metadata": {
        "colab": {
          "base_uri": "https://localhost:8080/"
        },
        "id": "F97GMWCi7Wbl",
        "outputId": "6c9b3a12-a294-43bd-8747-c3ac76dbc874"
      },
      "execution_count": 8,
      "outputs": [
        {
          "output_type": "stream",
          "name": "stdout",
          "text": [
            "Father : RAM\n",
            "Mother : SITA\n"
          ]
        }
      ]
    },
    {
      "cell_type": "markdown",
      "source": [
        "* **Multilevel Inheritance :** In multilevel inheritance, features of the base class and the derived class are further inherited into the new derived class. This is similar to a relationship representing a child and a grandfather."
      ],
      "metadata": {
        "id": "oazT8vbE7brs"
      }
    },
    {
      "cell_type": "code",
      "source": [
        "#Example\n",
        "# Python program to demonstrate\n",
        "# multilevel inheritance\n",
        "\n",
        "# Base class\n",
        "\n",
        "\n",
        "class Grandfather:\n",
        "\n",
        "\tdef __init__(self, grandfathername):\n",
        "\t\tself.grandfathername = grandfathername\n",
        "\n",
        "# Intermediate class\n",
        "\n",
        "\n",
        "class Father(Grandfather):\n",
        "\tdef __init__(self, fathername, grandfathername):\n",
        "\t\tself.fathername = fathername\n",
        "\n",
        "\t\t# invoking constructor of Grandfather class\n",
        "\t\tGrandfather.__init__(self, grandfathername)\n",
        "\n",
        "# Derived class\n",
        "\n",
        "\n",
        "class Son(Father):\n",
        "\tdef __init__(self, sonname, fathername, grandfathername):\n",
        "\t\tself.sonname = sonname\n",
        "\n",
        "\t\t# invoking constructor of Father class\n",
        "\t\tFather.__init__(self, fathername, grandfathername)\n",
        "\n",
        "\tdef print_name(self):\n",
        "\t\tprint('Grandfather name :', self.grandfathername)\n",
        "\t\tprint(\"Father name :\", self.fathername)\n",
        "\t\tprint(\"Son name :\", self.sonname)\n",
        "\n",
        "\n",
        "# Driver code\n",
        "s1 = Son('Prince', 'Rampal', 'Lal mani')\n",
        "print(s1.grandfathername)\n",
        "s1.print_name()\n"
      ],
      "metadata": {
        "colab": {
          "base_uri": "https://localhost:8080/"
        },
        "id": "fqyHqPx47nPN",
        "outputId": "50ab68ff-8e9a-4ba1-e97f-13fa7889935a"
      },
      "execution_count": 9,
      "outputs": [
        {
          "output_type": "stream",
          "name": "stdout",
          "text": [
            "Lal mani\n",
            "Grandfather name : Lal mani\n",
            "Father name : Rampal\n",
            "Son name : Prince\n"
          ]
        }
      ]
    },
    {
      "cell_type": "markdown",
      "source": [
        "* **Hierarchical Inheritance:** When more than one derived class are created from a single base this type of inheritance is called hierarchical inheritance. In this program, we have a parent (base) class and two child (derived) classes."
      ],
      "metadata": {
        "id": "Fv-jETN47s88"
      }
    },
    {
      "cell_type": "code",
      "source": [
        "#Example\n",
        "# Python program to demonstrate\n",
        "# Hierarchical inheritance\n",
        "\n",
        "\n",
        "# Base class\n",
        "class Parent:\n",
        "\tdef func1(self):\n",
        "\t\tprint(\"This function is in parent class.\")\n",
        "\n",
        "# Derived class1\n",
        "\n",
        "\n",
        "class Child1(Parent):\n",
        "\tdef func2(self):\n",
        "\t\tprint(\"This function is in child 1.\")\n",
        "\n",
        "# Derivied class2\n",
        "\n",
        "\n",
        "class Child2(Parent):\n",
        "\tdef func3(self):\n",
        "\t\tprint(\"This function is in child 2.\")\n",
        "\n",
        "\n",
        "# Driver's code\n",
        "object1 = Child1()\n",
        "object2 = Child2()\n",
        "object1.func1()\n",
        "object1.func2()\n",
        "object2.func1()\n",
        "object2.func3()\n"
      ],
      "metadata": {
        "colab": {
          "base_uri": "https://localhost:8080/"
        },
        "id": "IJ56Puoz72Tr",
        "outputId": "d12bcc32-0412-4173-d4a5-868efa2d1aad"
      },
      "execution_count": 10,
      "outputs": [
        {
          "output_type": "stream",
          "name": "stdout",
          "text": [
            "This function is in parent class.\n",
            "This function is in child 1.\n",
            "This function is in parent class.\n",
            "This function is in child 2.\n"
          ]
        }
      ]
    },
    {
      "cell_type": "markdown",
      "source": [
        "* **Hybrid Inheritance:**  Inheritance consisting of multiple types of inheritance is called hybrid inheritance."
      ],
      "metadata": {
        "id": "-TLNpHbS76pr"
      }
    },
    {
      "cell_type": "code",
      "source": [
        "#Example\n",
        "# Python program to demonstrate\n",
        "# hybrid inheritance\n",
        "\n",
        "\n",
        "class School:\n",
        "\tdef func1(self):\n",
        "\t\tprint(\"This function is in school.\")\n",
        "\n",
        "\n",
        "class Student1(School):\n",
        "\tdef func2(self):\n",
        "\t\tprint(\"This function is in student 1. \")\n",
        "\n",
        "\n",
        "class Student2(School):\n",
        "\tdef func3(self):\n",
        "\t\tprint(\"This function is in student 2.\")\n",
        "\n",
        "\n",
        "class Student3(Student1, School):\n",
        "\tdef func4(self):\n",
        "\t\tprint(\"This function is in student 3.\")\n",
        "\n",
        "\n",
        "# Driver's code\n",
        "object = Student3()\n",
        "object.func1()\n",
        "object.func2()\n"
      ],
      "metadata": {
        "colab": {
          "base_uri": "https://localhost:8080/"
        },
        "id": "nfiKXe6y8B1E",
        "outputId": "71859180-191d-4d49-948d-77834bd2aced"
      },
      "execution_count": 11,
      "outputs": [
        {
          "output_type": "stream",
          "name": "stdout",
          "text": [
            "This function is in school.\n",
            "This function is in student 1. \n"
          ]
        }
      ]
    },
    {
      "cell_type": "markdown",
      "source": [
        "**7. What is the Method Resolution Order (MRO) in Python? How can you retrieve it programmatically?**\n",
        "\n",
        "**Ans-** **Method Resolution Order :**\n",
        "Method Resolution Order(MRO) it denotes the way a programming language resolves a method or attribute. Python supports classes inheriting from other classes. The class being inherited is called the Parent or Superclass, while the class that inherits is called the Child or Subclass. In python, method resolution order defines the order in which the base classes are searched when executing a method. First, the method or attribute is searched within a class and then it follows the order we specified while inheriting. This order is also called Linearization of a class and set of rules are called MRO(Method Resolution Order).\n"
      ],
      "metadata": {
        "id": "6VN7vzJE8ISk"
      }
    },
    {
      "cell_type": "code",
      "source": [
        "#Example\n",
        "class A:\n",
        "    def myname(self):\n",
        "        print(\"I am a class A\")\n",
        "\n",
        "class B(A):\n",
        "    def myname(self):\n",
        "        print(\"I am a class B\")\n",
        "\n",
        "class C(A):\n",
        "    def myname(self):\n",
        "        print(\"I am a class C\")\n",
        "c = C()\n",
        "print(c.myname())"
      ],
      "metadata": {
        "colab": {
          "base_uri": "https://localhost:8080/"
        },
        "id": "6CPLwSbO9DOk",
        "outputId": "41d60a5d-d065-40e5-d106-111a110752e7"
      },
      "execution_count": 14,
      "outputs": [
        {
          "output_type": "stream",
          "name": "stdout",
          "text": [
            "I am a class C\n",
            "None\n"
          ]
        }
      ]
    },
    {
      "cell_type": "markdown",
      "source": [
        "**8. Create an abstract base class `Shape` with an abstract method `area()`. Then create two subclasses\n",
        "`Circle` and `Rectangle` that implement the `area()` method.**\n",
        "\n",
        "**Ans-**"
      ],
      "metadata": {
        "id": "bI6qCKrQ9xK0"
      }
    },
    {
      "cell_type": "code",
      "source": [
        "# define a function for calculating\n",
        "# the area of a shapes\n",
        "def calculate_area(name):\\\n",
        "\n",
        "# converting all characters\n",
        "# into lower cases\n",
        "name = name.lower()\n",
        "\n",
        "# check for the conditions\n",
        "if name == \"rectangle\":\n",
        "\tl = int(input(\"Enter rectangle's length: \"))\n",
        "\tb = int(input(\"Enter rectangle's breadth: \"))\n",
        "\n",
        "\t# calculate area of rectangle\n",
        "\trect_area = l * b\n",
        "\tprint(f\"The area of rectangle is\n",
        "\t\t{rect_area}.\")\n",
        "\n",
        "elif name == \"square\":\n",
        "\ts = int(input(\"Enter square's side length: \"))\n",
        "\n",
        "\t# calculate area of square\n",
        "\tsqt_area = s * s\n",
        "\tprint(f\"The area of square is\n",
        "\t\t{sqt_area}.\")\n",
        "\n",
        "elif name == \"triangle\":\n",
        "\th = int(input(\"Enter triangle's height length: \"))\n",
        "\tb = int(input(\"Enter triangle's breadth length: \"))\n",
        "\n",
        "\t# calculate area of triangle\n",
        "\ttri_area = 0.5 * b * h\n",
        "\tprint(f\"The area of triangle is\n",
        "\t\t{tri_area}.\")\n",
        "\n",
        "elif name == \"circle\":\n",
        "\tr = int(input(\"Enter circle's radius length: \"))\n",
        "\tpi = 3.14\n",
        "\n",
        "\t# calculate area of circle\n",
        "\tcirc_area = pi * r * r\n",
        "\tprint(f\"The area of circle is\n",
        "\t\t{circ_area}.\")\n",
        "\n",
        "elif name == 'parallelogram':\n",
        "\tb = int(input(\"Enter parallelogram's base length: \"))\n",
        "\th = int(input(\"Enter parallelogram's height length: \"))\n",
        "\n",
        "\t# calculate area of parallelogram\n",
        "\tpara_area = b * h\n",
        "\tprint(f\"The area of parallelogram is\n",
        "\t\t{para_area}.\")\n",
        "\n",
        "else:\n",
        "\tprint(\"Sorry! This shape is not available\")\n",
        "\n",
        "# driver code\n",
        "if __name__ == \"__main__\" :\n",
        "\n",
        "print(\"Calculate Shape Area\")\n",
        "shape_name = input(\"Enter the name of shape whose area you want to find: \")\n",
        "\n",
        "# function calling\n",
        "calculate_area(shape_name)\n"
      ],
      "metadata": {
        "colab": {
          "base_uri": "https://localhost:8080/",
          "height": 106
        },
        "id": "Ep-_6EJX_Kwk",
        "outputId": "212dc3b8-4802-41d9-ac75-c2c9f8c5e42c"
      },
      "execution_count": 22,
      "outputs": [
        {
          "output_type": "error",
          "ename": "SyntaxError",
          "evalue": "unterminated string literal (detected at line 16) (<ipython-input-22-c30e123d8dee>, line 16)",
          "traceback": [
            "\u001b[0;36m  File \u001b[0;32m\"<ipython-input-22-c30e123d8dee>\"\u001b[0;36m, line \u001b[0;32m16\u001b[0m\n\u001b[0;31m    print(f\"The area of rectangle is\u001b[0m\n\u001b[0m          ^\u001b[0m\n\u001b[0;31mSyntaxError\u001b[0m\u001b[0;31m:\u001b[0m unterminated string literal (detected at line 16)\n"
          ]
        }
      ]
    },
    {
      "cell_type": "markdown",
      "source": [
        "**9. Demonstrate polymorphism by creating a function that can work with different shape objects to calculate\n",
        "and print their areas.**\n",
        "\n",
        "**Ans-**The word polymorphism means having many forms. In programming, polymorphism means the same function name (but different signatures) being used for different types. The key difference is the data types and number of arguments used in function."
      ],
      "metadata": {
        "id": "A_oUpvn8AODT"
      }
    },
    {
      "cell_type": "code",
      "source": [
        "#Example\n",
        "# A simple Python function to demonstrate\n",
        "# Polymorphism\n",
        "\n",
        "def add(x, y, z = 0):\n",
        "    return x + y+z\n",
        "\n",
        "# Driver code\n",
        "print(add(2, 3))\n",
        "print(add(2, 3, 4))\n"
      ],
      "metadata": {
        "colab": {
          "base_uri": "https://localhost:8080/"
        },
        "id": "8W2YOVHmAqo9",
        "outputId": "0b530c10-1278-46e0-f164-3f3920bb2394"
      },
      "execution_count": 21,
      "outputs": [
        {
          "output_type": "stream",
          "name": "stdout",
          "text": [
            "5\n",
            "9\n"
          ]
        }
      ]
    },
    {
      "cell_type": "code",
      "source": [
        "#Example\n",
        "class India():\n",
        "    def capital(self):\n",
        "        print(\"New Delhi is the capital of India.\")\n",
        "\n",
        "    def language(self):\n",
        "        print(\"Hindi is the most widely spoken language of India.\")\n",
        "\n",
        "    def type(self):\n",
        "        print(\"India is a developing country.\")\n",
        "\n",
        "class USA():\n",
        "    def capital(self):\n",
        "        print(\"Washington, D.C. is the capital of USA.\")\n",
        "\n",
        "    def language(self):\n",
        "        print(\"English is the primary language of USA.\")\n",
        "\n",
        "    def type(self):\n",
        "        print(\"USA is a developed country.\")\n",
        "\n",
        "obj_ind = India()\n",
        "obj_usa = USA()\n",
        "for country in (obj_ind, obj_usa):\n",
        "    country.capital()\n",
        "    country.language()\n",
        "    country.type()\n"
      ],
      "metadata": {
        "colab": {
          "base_uri": "https://localhost:8080/"
        },
        "id": "PezJ7dXWA-W0",
        "outputId": "7b0d2a4e-9721-46c1-f87e-668f48cb9bf4"
      },
      "execution_count": 23,
      "outputs": [
        {
          "output_type": "stream",
          "name": "stdout",
          "text": [
            "New Delhi is the capital of India.\n",
            "Hindi is the most widely spoken language of India.\n",
            "India is a developing country.\n",
            "Washington, D.C. is the capital of USA.\n",
            "English is the primary language of USA.\n",
            "USA is a developed country.\n"
          ]
        }
      ]
    },
    {
      "cell_type": "markdown",
      "source": [
        "**10. Implement encapsulation in a `BankAccount` class with private attributes for `balance` and\n",
        "`account_number`. Include methods for deposit, withdrawal, and balance inquery.**\n",
        "\n",
        "**Ans-**"
      ],
      "metadata": {
        "id": "xIwT1aP-BEuj"
      }
    },
    {
      "cell_type": "code",
      "source": [
        "# Python program to create Bankaccount class\n",
        "# with both a deposit() and a withdraw() function\n",
        "class Bank_Account:\n",
        "\tdef __init__(self):\n",
        "\t\tself.balance=0\n",
        "\t\tprint(\"Hello!!! Welcome to the Deposit & Withdrawal Machine\")\n",
        "\n",
        "\tdef deposit(self):\n",
        "\t\tamount=float(input(\"Enter amount to be Deposited: \"))\n",
        "\t\tself.balance += amount\n",
        "\t\tprint(\"\\n Amount Deposited:\",amount)\n",
        "\n",
        "\tdef withdraw(self):\n",
        "\t\tamount = float(input(\"Enter amount to be Withdrawn: \"))\n",
        "\t\tif self.balance>=amount:\n",
        "\t\t\tself.balance-=amount\n",
        "\t\t\tprint(\"\\n You Withdrew:\", amount)\n",
        "\t\telse:\n",
        "\t\t\tprint(\"\\n Insufficient balance \")\n",
        "\n",
        "\tdef display(self):\n",
        "\t\tprint(\"\\n Net Available Balance=\",self.balance)\n",
        "\n",
        "# Driver code\n",
        "\n",
        "# creating an object of class\n",
        "s = Bank_Account()\n",
        "\n",
        "# Calling functions with that class object\n",
        "s.deposit()\n",
        "s.withdraw()\n",
        "s.display()\n"
      ],
      "metadata": {
        "colab": {
          "base_uri": "https://localhost:8080/"
        },
        "id": "CMRjhmAeCKD8",
        "outputId": "29d04014-2da3-4568-ccb7-71b8aee9916f"
      },
      "execution_count": 26,
      "outputs": [
        {
          "output_type": "stream",
          "name": "stdout",
          "text": [
            "Hello!!! Welcome to the Deposit & Withdrawal Machine\n",
            "Enter amount to be Deposited: 1000\n",
            "\n",
            " Amount Deposited: 1000.0\n",
            "Enter amount to be Withdrawn: 300\n",
            "\n",
            " You Withdrew: 300.0\n",
            "\n",
            " Net Available Balance= 700.0\n"
          ]
        }
      ]
    },
    {
      "cell_type": "markdown",
      "source": [
        "**11. Write a class that overrides the `__str__` and `__add__` magic methods. What will these methods allow\n",
        "you to do?**\n",
        "\n",
        "**Ans-**\n",
        "\n"
      ],
      "metadata": {
        "id": "6FOyeB2SCdbS"
      }
    },
    {
      "cell_type": "code",
      "source": [
        "#Example\n",
        "class MagicNumber:\n",
        "\n",
        "  def __init__(self, x):\n",
        "    self.x = x\n",
        "\n",
        "  def __add__(self, other):\n",
        "    if self.x == 3:\n",
        "      print('Trick!')\n",
        "      return 42\n",
        "    else:\n",
        "      return self.x + other.x\n",
        "\n",
        "a = MagicNumber(2)\n",
        "b = MagicNumber(3)\n",
        "\n",
        "print(a + b)\n",
        "print(b + a)"
      ],
      "metadata": {
        "colab": {
          "base_uri": "https://localhost:8080/"
        },
        "id": "0Zs0NAnTGulS",
        "outputId": "0238a046-3553-4d12-930e-b5904dd5912a"
      },
      "execution_count": 27,
      "outputs": [
        {
          "output_type": "stream",
          "name": "stdout",
          "text": [
            "5\n",
            "Trick!\n",
            "42\n"
          ]
        }
      ]
    },
    {
      "cell_type": "code",
      "source": [
        "#Example\n",
        "# declare our own string class\n",
        "class String:\n",
        "\n",
        "    # magic method to initiate object\n",
        "    def __init__(self, string):\n",
        "        self.string = string\n",
        "\n",
        "    # print our string object\n",
        "    def __repr__(self):\n",
        "        return 'Object: {}'.format(self.string)\n",
        "\n",
        "# Driver Code\n",
        "if __name__ == '__main__':\n",
        "\n",
        "    # object creation\n",
        "    string1 = String('Hello')\n",
        "\n",
        "    # print object location\n",
        "    print(string1)\n"
      ],
      "metadata": {
        "colab": {
          "base_uri": "https://localhost:8080/"
        },
        "id": "5zxt9u4MGzmK",
        "outputId": "353eeabf-67b3-489f-d04b-f2a7595747b2"
      },
      "execution_count": 28,
      "outputs": [
        {
          "output_type": "stream",
          "name": "stdout",
          "text": [
            "Object: Hello\n"
          ]
        }
      ]
    },
    {
      "cell_type": "markdown",
      "source": [
        "**12. Create a decorator that measures and prints the execution time of a function.**\n",
        "\n",
        "**Ans-**  Functions in Python also object. Hence, like any other object they can be referenced by variables, stored in data structures like dictionary or list, passed as an argument to another function, and returned as a value from another function. In this article, we are going to see the timing function with decorators.\n",
        "\n",
        "**Decorator:** A decorator is used to supercharge or modify a function. A decorator is a higher-order function that wraps another function and enhances it or changes it."
      ],
      "metadata": {
        "id": "uzsfESmuHE_D"
      }
    },
    {
      "cell_type": "code",
      "source": [
        "from time import time\n",
        "\n",
        "\n",
        "def timer_func(func):\n",
        "\t# This function shows the execution time of\n",
        "\t# the function object passed\n",
        "\tdef wrap_func(*args, **kwargs):\n",
        "\t\tt1 = time()\n",
        "\t\tresult = func(*args, **kwargs)\n",
        "\t\tt2 = time()\n",
        "\t\tprint(f'Function {func.__name__!r} executed in {(t2-t1):.4f}s')\n",
        "\t\treturn result\n",
        "\treturn wrap_func\n",
        "\n",
        "\n",
        "@timer_func\n",
        "def long_time(n):\n",
        "\tfor i in range(n):\n",
        "\t\tfor j in range(100000):\n",
        "\t\t\ti*j\n",
        "\n",
        "\n",
        "long_time(5)\n"
      ],
      "metadata": {
        "colab": {
          "base_uri": "https://localhost:8080/"
        },
        "id": "FX0Oq9XOHmMU",
        "outputId": "bddc7375-8470-48b3-c2c5-480ed9c893b6"
      },
      "execution_count": 29,
      "outputs": [
        {
          "output_type": "stream",
          "name": "stdout",
          "text": [
            "Function 'long_time' executed in 0.0550s\n"
          ]
        }
      ]
    },
    {
      "cell_type": "markdown",
      "source": [
        "**13. Explain the concept of the Diamond Problem in multiple inheritance. How does Python resolve it?**\n",
        "\n",
        "**Ans-** Python has a way to address this issue, it uses an approach called Method Resolution Order (MRO), which follows the C3 linearization or just \"C3 superclass linearization\". This algorithm assures that a class always precedes its parents and a parent precedes the other parent if it's derived from it. Python also has super() function that helps with dynamic dispatching."
      ],
      "metadata": {
        "id": "Nb0scUqjIMfL"
      }
    },
    {
      "cell_type": "code",
      "source": [
        "class A:\n",
        "    def display(self):\n",
        "        print(\"Display method from class A\")\n",
        "\n",
        "class B(A):\n",
        "    def display(self):\n",
        "        print(\"Display method from class B\")\n",
        "\n",
        "class C(A):\n",
        "    def display(self):\n",
        "        print(\"Display method from class C\")\n",
        "\n",
        "class D(B, C):\n",
        "    pass\n",
        "\n",
        "d = D()\n",
        "d.display()"
      ],
      "metadata": {
        "colab": {
          "base_uri": "https://localhost:8080/"
        },
        "id": "ak1LPZj7I8H7",
        "outputId": "238bc764-7c6f-4115-9f8b-51b39745c5c1"
      },
      "execution_count": 30,
      "outputs": [
        {
          "output_type": "stream",
          "name": "stdout",
          "text": [
            "Display method from class B\n"
          ]
        }
      ]
    },
    {
      "cell_type": "markdown",
      "source": [
        "**14. Write a class method that keeps track of the number of instances created from a class.**\n",
        "\n",
        "**Ans-** Instances of a class mean the objects created for a particular class. A single class can have multiple objects of it. Here, we will find the count of the number of instances of a class in Python."
      ],
      "metadata": {
        "id": "9nsRRx-6JFua"
      }
    },
    {
      "cell_type": "code",
      "source": [
        "# code\n",
        "class geeks:\n",
        "\n",
        "\t# this is used to print the number\n",
        "\t# of instances of a class\n",
        "\tcounter = 0\n",
        "\n",
        "\t# constructor of geeks class\n",
        "\tdef __init__(self):\n",
        "\n",
        "\t\t# increment\n",
        "\t\tgeeks.counter += 1\n",
        "\n",
        "\n",
        "# object or instance of geeks class\n",
        "g1 = geeks()\n",
        "g2 = geeks()\n",
        "g3 = geeks()\n",
        "print(geeks.counter)\n"
      ],
      "metadata": {
        "colab": {
          "base_uri": "https://localhost:8080/"
        },
        "id": "rX4p-qtYJ5CR",
        "outputId": "efe80b69-030a-47ef-9eba-a451e173948c"
      },
      "execution_count": 33,
      "outputs": [
        {
          "output_type": "stream",
          "name": "stdout",
          "text": [
            "3\n"
          ]
        }
      ]
    },
    {
      "cell_type": "markdown",
      "source": [
        "**15. Implement a static method in a class that checks if a given year is a leap year.**\n",
        "\n",
        "**And-**"
      ],
      "metadata": {
        "id": "SiGzzgNeJ7yB"
      }
    },
    {
      "cell_type": "code",
      "source": [
        "# Python3 implementation to check\n",
        "# if the year is a leap year\n",
        "# using macros\n",
        "\n",
        "# Macro to check if a year\n",
        "# is a leap year\n",
        "def ISLP(y):\n",
        "  if((y % 400 == 0) or\n",
        "     (y % 100 != 0) and\n",
        "     (y % 4 == 0)):\n",
        "    return 1;\n",
        "  else:\n",
        "    return 0;\n",
        "\n",
        "# Driver code\n",
        "if __name__=='__main__':\n",
        "\n",
        "  year = 2020;\n",
        "  print(ISLP(year));\n",
        "\n",
        "  # This code is contributed by  Pratham76.\n"
      ],
      "metadata": {
        "colab": {
          "base_uri": "https://localhost:8080/"
        },
        "id": "x-WAaFo9KZn9",
        "outputId": "f9874c4a-3631-42fb-ff85-7c0b8551c610"
      },
      "execution_count": 34,
      "outputs": [
        {
          "output_type": "stream",
          "name": "stdout",
          "text": [
            "1\n"
          ]
        }
      ]
    }
  ]
}