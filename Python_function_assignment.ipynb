{
  "nbformat": 4,
  "nbformat_minor": 0,
  "metadata": {
    "colab": {
      "provenance": [],
      "collapsed_sections": [
        "hZNUOqSHsXFL"
      ]
    },
    "kernelspec": {
      "name": "python3",
      "display_name": "Python 3"
    },
    "language_info": {
      "name": "python"
    }
  },
  "cells": [
    {
      "cell_type": "markdown",
      "source": [
        "# **Theory Questions:**"
      ],
      "metadata": {
        "id": "hZNUOqSHsXFL"
      }
    },
    {
      "cell_type": "markdown",
      "source": [
        "**1. What is the difference between a function and a method in python?**\n",
        "\n",
        "Ans - A function is a block of code to carry out a specific task, will contain its own scope and is called by name. All functions may contain zero(no) arguments or more than one arguments. On exit, a function can or can not return one or more values.\n",
        "\n",
        "**\"While\"**\n",
        "\n",
        "A method in Python is somewhat similar to a function, except it is associated with object/classes. Methods in Python are very similar to functions except for two major differences."
      ],
      "metadata": {
        "id": "95KVpWqIgd8d"
      }
    },
    {
      "cell_type": "code",
      "source": [
        "# example of function in Python\n",
        "def my_function():\n",
        "  print(\"Hello from a function\")\n",
        "\n",
        "my_function()"
      ],
      "metadata": {
        "colab": {
          "base_uri": "https://localhost:8080/"
        },
        "id": "6BV-H6DjiuOf",
        "outputId": "5825e404-8b5d-4e00-b677-6d3154c8c8e3"
      },
      "execution_count": null,
      "outputs": [
        {
          "output_type": "stream",
          "name": "stdout",
          "text": [
            "Hello from a function\n"
          ]
        }
      ]
    },
    {
      "cell_type": "code",
      "source": [
        "#example of method in Python\n",
        "class Pet(object):\n",
        "   def my_method(self):\n",
        "      print(\"I am a Cat\")\n",
        "cat = Pet()\n",
        "cat.my_method()"
      ],
      "metadata": {
        "colab": {
          "base_uri": "https://localhost:8080/"
        },
        "id": "heBxQkwxjFiJ",
        "outputId": "f9e8eded-b585-40c8-c5aa-1ea190db6134"
      },
      "execution_count": null,
      "outputs": [
        {
          "output_type": "stream",
          "name": "stdout",
          "text": [
            "I am a Cat\n"
          ]
        }
      ]
    },
    {
      "cell_type": "markdown",
      "source": [
        "**2. Explain the concept of function arguments and parameters in python.**\n",
        "\n",
        "Ans - An argument is a value that is passed to a function when it is called. It might be a variable, value or object passed to a function or method as input. They are written when we are calling the function."
      ],
      "metadata": {
        "id": "RlNV8qL0jyAv"
      }
    },
    {
      "cell_type": "code",
      "source": [
        "#example\n",
        "def sum(a,b):\n",
        "  print(a+b)\n",
        "\n",
        "# Here the values 1,2 are arguments\n",
        "sum(1,2)"
      ],
      "metadata": {
        "colab": {
          "base_uri": "https://localhost:8080/"
        },
        "id": "4H02NP1MlfmM",
        "outputId": "bf7a1931-7bdf-4a0a-e390-72a68eee47c1"
      },
      "execution_count": null,
      "outputs": [
        {
          "output_type": "stream",
          "name": "stdout",
          "text": [
            "3\n"
          ]
        }
      ]
    },
    {
      "cell_type": "markdown",
      "source": [
        "- A parameter is the variable defined within the parentheses during function definition. Simply they are written when we declare a function."
      ],
      "metadata": {
        "id": "cRiLb6aqlne7"
      }
    },
    {
      "cell_type": "code",
      "source": [
        "#example\n",
        "# Here a,b are the parameters\n",
        "def sum(a,b):\n",
        "  print(a+b)\n",
        "\n",
        "sum(1,2)"
      ],
      "metadata": {
        "colab": {
          "base_uri": "https://localhost:8080/"
        },
        "id": "Iv8plI25lvgi",
        "outputId": "9e66ea5b-b6ad-4b2e-ce7b-390960b2a570"
      },
      "execution_count": null,
      "outputs": [
        {
          "output_type": "stream",
          "name": "stdout",
          "text": [
            "3\n"
          ]
        }
      ]
    },
    {
      "cell_type": "markdown",
      "source": [
        "**3. What are the different ways to define and call a function in python ?**\n",
        "\n",
        "Ans - - To define a function, you use the def keyword followed by the name of the function and parentheses (). If the function takes any arguments, they are included within the parentheses. The code block for the function is then indented after the colon."
      ],
      "metadata": {
        "id": "w6H__6DHl5zC"
      }
    },
    {
      "cell_type": "code",
      "source": [
        "#example\n",
        "def greet(name):\n",
        "    print(\"Hello, \" + name + \"! How are you?\")"
      ],
      "metadata": {
        "id": "DVfs8cDIntM6"
      },
      "execution_count": null,
      "outputs": []
    },
    {
      "cell_type": "markdown",
      "source": [
        "- Once you have defined a function, you can call it in your code as many times as you need.\n",
        "\n",
        "To call a function in Python, you simply type the name of the function followed by parentheses (). If the function takes any arguments, they are included within the parentheses."
      ],
      "metadata": {
        "id": "j0bgV3xzou-3"
      }
    },
    {
      "cell_type": "code",
      "source": [
        "#example\n",
        "def greet(name):\n",
        "    print(\"Hello, \" + name + \"! How are you?\")\n",
        "greet(\"Ravi\")"
      ],
      "metadata": {
        "colab": {
          "base_uri": "https://localhost:8080/"
        },
        "id": "gyrKkx-AoxAx",
        "outputId": "4c784c2f-23e7-4391-e3cb-73ea76c2c605"
      },
      "execution_count": null,
      "outputs": [
        {
          "output_type": "stream",
          "name": "stdout",
          "text": [
            "Hello, Ravi! How are you?\n"
          ]
        }
      ]
    },
    {
      "cell_type": "markdown",
      "source": [
        "**4. What is the purpose of the 'return' statement in Python function ?**\n",
        "\n",
        "Ans - The python return statement is used to return values from the function. We can use the return statement in a function only. It can’t be used outside of a Python function."
      ],
      "metadata": {
        "id": "jegbaY9lpLfk"
      }
    },
    {
      "cell_type": "code",
      "source": [
        "#example\n",
        "def add(x, y):\n",
        "    return x + y\n",
        "\n",
        "\n",
        "output = add(5, 4)\n",
        "print(f'Output of add(5, 4) function is {output}')"
      ],
      "metadata": {
        "colab": {
          "base_uri": "https://localhost:8080/"
        },
        "id": "CSrrmN3DqQdW",
        "outputId": "5fc0ec80-440d-4712-d0e0-ed00a94d9d03"
      },
      "execution_count": null,
      "outputs": [
        {
          "output_type": "stream",
          "name": "stdout",
          "text": [
            "Output of add(5, 4) function is 9\n"
          ]
        }
      ]
    },
    {
      "cell_type": "markdown",
      "source": [
        "**5. What are iterators in python and how they are differ from iterables ?**\n",
        "\n",
        "Ans - Iterable is an object, that one can iterate over. It generates an Iterator when passed to iter() method. An **iterator** is an object, which is used to iterate over an iterable object using the __next__() method. Iterators have the __next__() method, which returns the next item of the object.\n",
        "\n",
        "**Note**: Every iterator is also an iterable, but not every iterable is an iterator in Python."
      ],
      "metadata": {
        "id": "jxtXD70vq7Po"
      }
    },
    {
      "cell_type": "code",
      "source": [
        "#example\n",
        "s=\"TRY\"\n",
        "s=iter(s)\n",
        "print(s)\n",
        "print(next(s))\n",
        "print(next(s))\n",
        "print(next(s))"
      ],
      "metadata": {
        "colab": {
          "base_uri": "https://localhost:8080/"
        },
        "id": "4QCJ9lqGsLUV",
        "outputId": "017989fd-01e6-4f50-8c33-1b2199a4b0a9"
      },
      "execution_count": null,
      "outputs": [
        {
          "output_type": "stream",
          "name": "stdout",
          "text": [
            "<str_iterator object at 0x7b889cab69e0>\n",
            "T\n",
            "R\n",
            "Y\n"
          ]
        }
      ]
    },
    {
      "cell_type": "markdown",
      "source": [
        "**6. Explain the concept of generators in python and how they are defined.**\n",
        "\n",
        "Ans - Python's generator functions are used to create iterators(which can be traversed like **list, tuple**) and return a traversal object. It helps to transverse all the items one at a time present in the iterator.\n",
        "\n",
        "Generator functions are defined as the normal function, but to identify the difference between the normal function and generator function is that in the normal function, we use the **return keyword** to return the values, and in the generator function, instead of using the return, we use **yield** to execute our iterator."
      ],
      "metadata": {
        "id": "P6BejMPnswSY"
      }
    },
    {
      "cell_type": "code",
      "source": [
        "#example\n",
        "def gen_fun():\n",
        "    yield 10\n",
        "    yield 20\n",
        "    yield 30\n",
        "\n",
        "for i in gen_fun():\n",
        "    print(i)"
      ],
      "metadata": {
        "colab": {
          "base_uri": "https://localhost:8080/"
        },
        "id": "Xjgz7nR0tonh",
        "outputId": "92c3474e-9cdb-4d9a-91c4-c6bf9587a835"
      },
      "execution_count": null,
      "outputs": [
        {
          "output_type": "stream",
          "name": "stdout",
          "text": [
            "10\n",
            "20\n",
            "30\n"
          ]
        }
      ]
    },
    {
      "cell_type": "markdown",
      "source": [
        "**7. What are the advantage of using generators over regular functions?**\n",
        "\n",
        "Ans - Advantages of generators over regular function-\n",
        "\n",
        "\n",
        "With generators, the memory footprint is smaller if you process huge data in small chunks.\n",
        "\n",
        "Another benefit is, that you can call gennertor-functions with generators."
      ],
      "metadata": {
        "id": "5KqMpYXWuETv"
      }
    },
    {
      "cell_type": "code",
      "source": [
        "#example\n",
        "def gen():\n",
        "    yield from range(5)\n",
        "\n",
        "def square(iterable):\n",
        "    for element in iterable:\n",
        "        yield element ** 2\n",
        "\n",
        "for value in square(gen()):\n",
        "    print(value)"
      ],
      "metadata": {
        "colab": {
          "base_uri": "https://localhost:8080/"
        },
        "id": "MRr2GWkDvvzH",
        "outputId": "b95c6cb1-8e70-4017-a4a7-920c515a2b08"
      },
      "execution_count": null,
      "outputs": [
        {
          "output_type": "stream",
          "name": "stdout",
          "text": [
            "0\n",
            "1\n",
            "4\n",
            "9\n",
            "16\n"
          ]
        }
      ]
    },
    {
      "cell_type": "markdown",
      "source": [
        "**8. What is lambda function in Python and when is it typically used?**\n",
        "\n",
        "Ans -  Lambda functions are small, anonymous functions defined using the lambda keyword. They are used for creating small, throwaway functions without the need to formally define a function using def\n",
        "\n",
        "\n",
        "\n",
        "Key Points:\n",
        "\n",
        "- Anonymous: Lambda functions are not bound to a name.\n",
        "\n",
        "- Single Expression: They can contain only one expression, which is evaluated and returned."
      ],
      "metadata": {
        "id": "LvI4Cu76xIMW"
      }
    },
    {
      "cell_type": "code",
      "source": [
        "#example\n",
        "square = lambda x: x*x\n",
        "print(square(5))"
      ],
      "metadata": {
        "colab": {
          "base_uri": "https://localhost:8080/"
        },
        "id": "Tg-z9wo8yIOH",
        "outputId": "e2e06b53-fa15-4420-f453-c56161c7645f"
      },
      "execution_count": null,
      "outputs": [
        {
          "output_type": "stream",
          "name": "stdout",
          "text": [
            "25\n"
          ]
        }
      ]
    },
    {
      "cell_type": "markdown",
      "source": [
        "**9. Explain the purpose and usage of the 'map()' function in python.**\n",
        "\n",
        "Ans - The map function applies a given function to all items in an input iterable (like a list) and returns an iterator with the results.\n",
        "\n",
        "Key Points:\n",
        "\n",
        "Transformation: Used to transform each item in an iterable by applying the specified function.\n",
        "\n",
        "Syntax:\n",
        "\n",
        "map(function, iterable)"
      ],
      "metadata": {
        "id": "1ZOCe-owyq9a"
      }
    },
    {
      "cell_type": "code",
      "source": [
        "#example\n",
        "numbers = [1,2,3,4,5]\n",
        "squared = map(lambda x : x*x ,numbers)\n",
        "print(list(squared))"
      ],
      "metadata": {
        "colab": {
          "base_uri": "https://localhost:8080/"
        },
        "id": "9_vUUOElzsg2",
        "outputId": "5c5ddd2d-c3ac-4539-809b-d77666f23e38"
      },
      "execution_count": null,
      "outputs": [
        {
          "output_type": "stream",
          "name": "stdout",
          "text": [
            "[1, 4, 9, 16, 25]\n"
          ]
        }
      ]
    },
    {
      "cell_type": "markdown",
      "source": [
        "**10. What is the difference between 'map(),'reduce()',and'filter()'functions in Python?**\n",
        "\n",
        "Ans - The **map ()**function returns a map object(which is an iterator) of the results after applying the given function to each item of a given iterable (list, tuple, etc.)\n",
        "\n",
        "**While**\n",
        "\n",
        "The **reduce** function is used to apply a particular function passed in its argument to all of the list elements mentioned in the sequence passed along.This function is defined in “functools” module.\n",
        "\n",
        "**While**\n",
        "\n",
        "The **filter()** method filters the given sequence with the help of a function that tests each element in the sequence to be true or not."
      ],
      "metadata": {
        "id": "YVqYu5bM1bAp"
      }
    },
    {
      "cell_type": "code",
      "source": [
        "#In this example, Python program showcases the usage of the map function to double each number\n",
        "# in a given list by applying the double function to each element,\n",
        "# and then printing the result as a list.\n",
        "\n",
        "# Function to return double of n\n",
        "def double(n):\n",
        "    return n * 2\n",
        "\n",
        "# Using map to double all numbers\n",
        "numbers = [5, 6, 7, 8]\n",
        "result = map(double, numbers)\n",
        "print(list(result))"
      ],
      "metadata": {
        "colab": {
          "base_uri": "https://localhost:8080/"
        },
        "id": "dDxWxVYY3Wag",
        "outputId": "2f0863aa-4d92-4832-b275-bbd6d0d94573"
      },
      "execution_count": null,
      "outputs": [
        {
          "output_type": "stream",
          "name": "stdout",
          "text": [
            "[10, 12, 14, 16]\n"
          ]
        }
      ]
    },
    {
      "cell_type": "code",
      "source": [
        "#In this example, we are using reduce() function from the functools module to compute\n",
        "#the product of elements in a given list by continuously applying the lambda function\n",
        "#that multiplies two numbers together, resulting in the final product.\n",
        "\n",
        "import functools\n",
        "\n",
        "# Define a list of numbers\n",
        "numbers = [1, 2, 3, 4]\n",
        "\n",
        "# Use reduce to compute the product of list elements\n",
        "product = functools.reduce(lambda x, y: x * y, numbers)\n",
        "print(\"Product of list elements:\", product)"
      ],
      "metadata": {
        "colab": {
          "base_uri": "https://localhost:8080/"
        },
        "id": "9AjUPlio3yrX",
        "outputId": "81c5952a-7cf4-45c5-a1b2-8b2252311864"
      },
      "execution_count": null,
      "outputs": [
        {
          "output_type": "stream",
          "name": "stdout",
          "text": [
            "Product of list elements: 24\n"
          ]
        }
      ]
    },
    {
      "cell_type": "code",
      "source": [
        " #In this example, we defines a function is_even to check whether a number is even or not.\n",
        "#Then, it applies the filter() function to a list of numbers to extract only the even numbers,\n",
        "#resulting in a list containing only the even elements. Finally, it prints the list of even numbers.\n",
        "\n",
        "# Define a function to check if a number is even\n",
        "def is_even(n):\n",
        "    return n % 2 == 0\n",
        "\n",
        "# Define a list of numbers\n",
        "numbers = [1, 2, 3, 4, 5, 6, 7, 8, 9, 10]\n",
        "\n",
        "# Use filter to filter out even numbers\n",
        "even_numbers = filter(is_even, numbers)\n",
        "print(\"Even numbers:\", list(even_numbers))"
      ],
      "metadata": {
        "colab": {
          "base_uri": "https://localhost:8080/"
        },
        "id": "CEjrsR_W4O0Y",
        "outputId": "b0c7ba87-3efd-4d0a-d89a-1f529b96abbc"
      },
      "execution_count": null,
      "outputs": [
        {
          "output_type": "stream",
          "name": "stdout",
          "text": [
            "Even numbers: [2, 4, 6, 8, 10]\n"
          ]
        }
      ]
    },
    {
      "cell_type": "markdown",
      "source": [
        "**11. Using pen & paper write the internal mechanism for sum operation using reduce function on this given list:[47,11,42,13].**\n",
        "\n",
        "Ans - [https://drive.google.com/file/d/1ZcrHhQ11FOZewqOMoIZ3tHSr_RZlb3DW/view?usp=drive_link]"
      ],
      "metadata": {
        "id": "U7ja5thGsht2"
      }
    },
    {
      "cell_type": "markdown",
      "source": [
        "# **Practical Questions:**"
      ],
      "metadata": {
        "id": "Q51Qokb3Cw0H"
      }
    },
    {
      "cell_type": "markdown",
      "source": [
        "**1. Write a Python function that takes a list of numbers as input and returns the sum of all even numbers in\n",
        "the list.**\n",
        "\n",
        "Ans -"
      ],
      "metadata": {
        "id": "Nd2w8xoJDM0x"
      }
    },
    {
      "cell_type": "code",
      "source": [
        "myList = [1, 3, 5, 6, 8, 10, 34, 2, 0, 3]\n",
        "result = 0  # Initialize results variable.\n",
        "for i in myList:  # Loop through each element of the list.\n",
        "   if not i % 2:  # Test for even numbers.\n",
        "     result += i\n",
        "\n",
        "print(result)\n"
      ],
      "metadata": {
        "colab": {
          "base_uri": "https://localhost:8080/"
        },
        "id": "LE8FVWituOGJ",
        "outputId": "f73c2b53-5358-4263-86f4-865c095ba36e"
      },
      "execution_count": null,
      "outputs": [
        {
          "output_type": "stream",
          "name": "stdout",
          "text": [
            "60\n"
          ]
        }
      ]
    },
    {
      "cell_type": "markdown",
      "source": [
        "**2. Create a Python function that accepts a string and returns the reverse of that string.**\n",
        "\n",
        "Ans -"
      ],
      "metadata": {
        "id": "FlUSQ7zmuo2B"
      }
    },
    {
      "cell_type": "code",
      "source": [
        "def my_function(x):\n",
        "  return x[::-1]\n",
        "\n",
        "mytxt = my_function(\"I wonder how this text looks like backwards\")\n",
        "\n",
        "print(mytxt)"
      ],
      "metadata": {
        "colab": {
          "base_uri": "https://localhost:8080/"
        },
        "id": "oDJ5oegivZWS",
        "outputId": "98f2eead-e4d3-495f-a4ab-e327612b67f8"
      },
      "execution_count": null,
      "outputs": [
        {
          "output_type": "stream",
          "name": "stdout",
          "text": [
            "sdrawkcab ekil skool txet siht woh rednow I\n"
          ]
        }
      ]
    },
    {
      "cell_type": "markdown",
      "source": [
        "**3. Implement a Python function that takes a list of integers and returns a new list containing the squares of\n",
        "each number.**\n",
        "\n",
        "Ans -"
      ],
      "metadata": {
        "id": "hDer9NxTvnLv"
      }
    },
    {
      "cell_type": "code",
      "source": [
        "# create a list with 7 integer elements\n",
        "list=[1,2,3,4,5,6,7]\n",
        "\n",
        "# use list comprehension to get square\n",
        "result = [i*i for i in list]\n",
        "\n",
        "# display the result\n",
        "print(result)"
      ],
      "metadata": {
        "colab": {
          "base_uri": "https://localhost:8080/"
        },
        "id": "e6iW__arwHqr",
        "outputId": "8565cd7d-aab4-4e42-dfc9-7b5f3058f6bd"
      },
      "execution_count": null,
      "outputs": [
        {
          "output_type": "stream",
          "name": "stdout",
          "text": [
            "[1, 4, 9, 16, 25, 36, 49]\n"
          ]
        }
      ]
    },
    {
      "cell_type": "markdown",
      "source": [
        "**4. Write a Python function that checks if a given number is prime or not from 1 to 200.**\n",
        "\n",
        "Ans -"
      ],
      "metadata": {
        "id": "CZxycW0mwfGe"
      }
    },
    {
      "cell_type": "code",
      "source": [
        "def is_prime_recursive(num, divisor=None):\n",
        "    if divisor is None:\n",
        "        divisor = num - 1\n",
        "    if num <= 1:\n",
        "        return False\n",
        "    if divisor == 1:\n",
        "        return True\n",
        "    if num % divisor == 0:\n",
        "        return False\n",
        "    return is_prime_recursive(num, divisor - 1)\n",
        "\n",
        "number = int(input(\"Enter a number: \"))\n",
        "if is_prime_recursive(number):\n",
        "    print(f\"{number} is a prime number.\")\n",
        "else:\n",
        "    print(f\"{number} is not a prime number.\")"
      ],
      "metadata": {
        "colab": {
          "base_uri": "https://localhost:8080/"
        },
        "id": "xJDYLODazMyI",
        "outputId": "c25218c1-ac1b-4f7e-c5f4-783f36366249"
      },
      "execution_count": null,
      "outputs": [
        {
          "output_type": "stream",
          "name": "stdout",
          "text": [
            "Enter a number: 73\n",
            "73 is a prime number.\n"
          ]
        }
      ]
    },
    {
      "cell_type": "markdown",
      "source": [
        "**5. Create an iterator class in Python that generates the Fibonacci sequence up to a specified number of\n",
        "terms.**\n",
        "\n",
        "Ans -"
      ],
      "metadata": {
        "id": "kGB_vfbP4gOl"
      }
    },
    {
      "cell_type": "code",
      "source": [
        "num = 10\n",
        "n1, n2 = 0,1\n",
        "if num == 1:\n",
        "  print(n1)\n",
        "else:\n",
        "  print(n1,n2,end=\" \")\n",
        "  for i in range(2,num):\n",
        "    n3 = n1 + n2\n",
        "    n1 = n2\n",
        "    n2 = n3\n",
        "    print(n3, end=\" \")"
      ],
      "metadata": {
        "colab": {
          "base_uri": "https://localhost:8080/"
        },
        "id": "tygOgemo76Ch",
        "outputId": "7d1380fa-2361-44c0-97f9-34f653d03dcf"
      },
      "execution_count": null,
      "outputs": [
        {
          "output_type": "stream",
          "name": "stdout",
          "text": [
            "0 1 1 2 3 5 8 13 21 34 "
          ]
        }
      ]
    },
    {
      "cell_type": "markdown",
      "source": [
        "**6. Write a generator function in Python that yields the powers of 2 up to a given exponent.**\n",
        "\n",
        "Ans -"
      ],
      "metadata": {
        "id": "8A3Jywed6zVY"
      }
    },
    {
      "cell_type": "code",
      "source": [
        "def gen(x):\n",
        "   i = 2\n",
        "   for n in range(x + 1):\n",
        "       yield i\n",
        "       i <<= 1\n",
        "   list(gen(2))\n",
        "[2, 4, 8, 16, 32]"
      ],
      "metadata": {
        "colab": {
          "base_uri": "https://localhost:8080/"
        },
        "id": "1KaT-u7vAeoS",
        "outputId": "7cc14fcc-c2a1-4155-95e5-5c672f5e61ac"
      },
      "execution_count": null,
      "outputs": [
        {
          "output_type": "execute_result",
          "data": {
            "text/plain": [
              "[2, 4, 8, 16, 32]"
            ]
          },
          "metadata": {},
          "execution_count": 38
        }
      ]
    },
    {
      "cell_type": "markdown",
      "source": [
        "**7. Implement a generator function that reads a file line by line and yields each line as a string.**\n",
        "\n",
        "Ans -"
      ],
      "metadata": {
        "id": "uD5buffRBBRx"
      }
    },
    {
      "cell_type": "code",
      "source": [
        "L = [\"Geeks\\n\", \"for\\n\", \"Geeks\\n\"]\n",
        "\n",
        "# Writing to file\n",
        "file1 = open('myfile.txt', 'w')\n",
        "file1.writelines(L)\n",
        "file1.close()\n",
        "\n",
        "# Opening file\n",
        "file1 = open('myfile.txt', 'r')\n",
        "count = 0\n",
        "\n",
        "# Using for loop\n",
        "print(\"Using for loop\")\n",
        "for line in file1:\n",
        "    count += 1\n",
        "    print(\"Line{}: {}\".format(count, line.strip()))\n",
        "\n",
        "# Closing files\n",
        "file1.close()"
      ],
      "metadata": {
        "colab": {
          "base_uri": "https://localhost:8080/"
        },
        "id": "a578_JJVDJ0K",
        "outputId": "1bf03e1d-620f-46cd-aba1-68d292a341b9"
      },
      "execution_count": null,
      "outputs": [
        {
          "output_type": "stream",
          "name": "stdout",
          "text": [
            "Using for loop\n",
            "Line1: Geeks\n",
            "Line2: for\n",
            "Line3: Geeks\n"
          ]
        }
      ]
    },
    {
      "cell_type": "markdown",
      "source": [
        "**8. Use a lambda function in Python to sort a list of tuples based on the second element of each tuple.**\n",
        "\n",
        "Ans -"
      ],
      "metadata": {
        "id": "bCGWfg0MDuyQ"
      }
    },
    {
      "cell_type": "code",
      "source": [
        "# Create a list of tuples named 'subject_marks', each tuple containing a subject and its corresponding marks\n",
        "subject_marks = [('English', 88), ('Science', 90), ('Maths', 97), ('Social sciences', 82)]\n",
        "\n",
        "# Display the original list of tuples to the console\n",
        "print(\"Original list of tuples:\")\n",
        "print(subject_marks)\n",
        "\n",
        "# Sort the 'subject_marks' list of tuples based on the second element of each tuple (the marks),\n",
        "# using a lambda function as the sorting key to extract the second element\n",
        "subject_marks.sort(key=lambda x: x[1])\n",
        "\n",
        "# Display the sorted list of tuples to the console\n",
        "print(\"\\nSorting the List of Tuples:\")\n",
        "print(subject_marks)"
      ],
      "metadata": {
        "colab": {
          "base_uri": "https://localhost:8080/"
        },
        "id": "qu0eKqyED6KL",
        "outputId": "cd5d4bfa-b2d2-4894-a2da-a3d374ad8611"
      },
      "execution_count": null,
      "outputs": [
        {
          "output_type": "stream",
          "name": "stdout",
          "text": [
            "Original list of tuples:\n",
            "[('English', 88), ('Science', 90), ('Maths', 97), ('Social sciences', 82)]\n",
            "\n",
            "Sorting the List of Tuples:\n",
            "[('Social sciences', 82), ('English', 88), ('Science', 90), ('Maths', 97)]\n"
          ]
        }
      ]
    },
    {
      "cell_type": "markdown",
      "source": [
        "**9. Write a Python program that uses `map()` to convert a list of temperatures from Celsius to Fahrenheit.**\n",
        "\n",
        " Ans -"
      ],
      "metadata": {
        "id": "pbS_6PlLEKDl"
      }
    },
    {
      "cell_type": "code",
      "source": [
        "celsius = float(input(\"Enter temperature\\\n",
        "in celsius: \"))\n",
        "\n",
        "fahrenheit = (celsius * 1.8) + 32\n",
        "\n",
        "print(str(celsius )+ \" degree Celsius\\\n",
        "is equal to \" + str(fahrenheit )+\n",
        "\t\" degree Fahrenheit.\")"
      ],
      "metadata": {
        "colab": {
          "base_uri": "https://localhost:8080/"
        },
        "id": "B5ODiFmNZZn8",
        "outputId": "a522b1a9-fe5f-4f89-d46c-630b1dafb35b"
      },
      "execution_count": 1,
      "outputs": [
        {
          "output_type": "stream",
          "name": "stdout",
          "text": [
            "Enter temperaturein celsius: 43\n",
            "43.0 degree Celsiusis equal to 109.4 degree Fahrenheit.\n"
          ]
        }
      ]
    },
    {
      "cell_type": "markdown",
      "source": [
        "**10. Create a Python program that uses `filter()` to remove all the vowels from a given string.**\n",
        "\n",
        "Ans -"
      ],
      "metadata": {
        "id": "I-kgxTK4YmcW"
      }
    },
    {
      "cell_type": "code",
      "source": [
        "string = \"PrepInsta\"\n",
        "\n",
        "vowels = ['a', 'e', 'i', 'o', 'u', 'A', 'E', 'I', 'O', 'U']\n",
        "result = \"\"\n",
        "\n",
        "for i in range(len(string)):\n",
        "    if string[i] not in vowels:\n",
        "        result = result + string[i]\n",
        "\n",
        "print(\"\\nAfter removing Vowels: \", result)"
      ],
      "metadata": {
        "colab": {
          "base_uri": "https://localhost:8080/"
        },
        "id": "YF9ze_wvZIMe",
        "outputId": "99a25e26-3544-496c-89c0-d5343a735e34"
      },
      "execution_count": null,
      "outputs": [
        {
          "output_type": "stream",
          "name": "stdout",
          "text": [
            "\n",
            "After removing Vowels:  Prpnst\n"
          ]
        }
      ]
    },
    {
      "cell_type": "markdown",
      "source": [
        "**11. Imagine an accounting routine used in a book shop. It works on a list with sublists, which look like this:**\n",
        "\n",
        "Order Number,\t Book Title and Author,\t          Quantity,\t  Price per Item\n",
        "\n",
        "34587\t,        Learning Python, Mark Lutz,\t         4\t,         40.95\n",
        "\n",
        "98762\t,        Programming Python, Mark Lutz,\t       5\t,         56.80\n",
        "\n",
        "77226\t,        Head First Python, Paul Barry ,\t     3\t,         32.95\n",
        "\n",
        "88112\t,        Einführung in Python3, Bernd Klein,   3\t ,        24.99\n",
        "\n",
        "**Write a Python program, which returns a list with 2-tuples. Each tuple consists of the order number and the\n",
        "product of the price per item and the quantity. The product should be increased by 10,- € if the value of the\n",
        "order is smaller than 100,00 €.**\n",
        "\n",
        "**Write a Python program using lambda and map**\n",
        "\n",
        "Ans -\n"
      ],
      "metadata": {
        "id": "QdnXB_iw0qkQ"
      }
    },
    {
      "cell_type": "code",
      "source": [
        "#Solution-1\n",
        "\n",
        "orders = [ [\"34587\", \"Learning Python, Mark Lutz\", 4, 40.95],[\"98762\", \"Programming Python, Mark Lutz\", 5, 56.80],[\"77226\", \"Head First Python, Paul Barry\", 3,32.95],[\"88112\", \"Einführung in Python3, Bernd Klein\", \t3, 24.99]]\n",
        "\n",
        "invoice_totals = list(map(lambda x: x if x[1] >= min_order else (x[0], x[1] + 10),map(lambda x: (x[0],x[2] * x[3]), orders)))\n",
        "\n",
        "#Note- To understand the working of above lambda function break the function till innermost map function. Break and understand in below fashion\n",
        "'''\n",
        "output1 = map(lambda x: (x[0],x[2] * x[3]), orders) #Innermost lambda function execution\n",
        "\n",
        "output2 = map(lambda x: x if x[1] >= min_order else (x[0], x[1] + 10),map(lambda x: (x[0],x[2] * x[3]), orders))\n",
        "\n",
        "final = list(map(lambda x: x if x[1] >= min_order else (x[0], x[1] + 10),map(lambda x: (x[0],x[2] * x[3]), orders)))\n",
        "'''\n",
        "\n",
        "#Solution-2\n",
        "\n",
        "from functools import reduce\n",
        "\n",
        "orders = [ [1, (\"5464\", 4, 9.99), (\"8274\",18,12.99), (\"9744\", 9, 44.95)],[2, (\"5464\", 9, 9.99), (\"9744\", 9, 44.95)],[3, (\"5464\", 9, 9.99), (\"88112\", 11, 24.99)],[4, (\"8732\", 7, 11.99), (\"7733\",11,18.99), (\"88112\", 5, 39.95)] ]\n",
        "\n",
        "invoice = list(map(lambda k: k if k[1]>=100 else (k[0],k[1]+10),map(lambda x:(x[0],reduce(lambda a,b:a+b,list(map(lambda y:y[1]*y[2] ,x[1:])))),orders)))\n",
        "\n",
        "#Breaking\n",
        "\n",
        "'''\n",
        "output1=map(lambda y:y[1]*y[2] ,x[1:])\n",
        "output2=list(map(lambda y:y[1]*y[2] ,x[1:]))\n",
        "output3=reduce(lambda a,b:a+b,list(map(lambda y:y[1]*y[2] ,x[1:])))\n",
        "output4=map(lambda x:(x[0],reduce(lambda a,b:a+b,list(map(lambda y:y[1]*y[2] ,x[1:]))))\n",
        "output5=map(lambda k: k if k[1]>=100 else (k[0],k[1]+10),map(lambda x:(x[0],reduce(lambda a,b:a+b,list(map(lambda y:y[1]*y[2] ,x[1:])))),orders))\n",
        "output6=list(map(lambda k: k if k[1]>=100 else (k[0],k[1]+10),map(lambda x:(x[0],reduce(lambda a,b:a+b,list(map(lambda y:y[1]*y[2] ,x[1:])))),orders)))\n",
        "'''"
      ],
      "metadata": {
        "id": "FCvps-ZF37TY"
      },
      "execution_count": null,
      "outputs": []
    }
  ]
}