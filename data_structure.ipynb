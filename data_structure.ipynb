{
  "nbformat": 4,
  "nbformat_minor": 0,
  "metadata": {
    "colab": {
      "provenance": []
    },
    "kernelspec": {
      "name": "python3",
      "display_name": "Python 3"
    },
    "language_info": {
      "name": "python"
    }
  },
  "cells": [
    {
      "cell_type": "markdown",
      "source": [
        "**1. Write a code to reverse a string.**\n",
        "\n",
        "Ans.= Here's a simple Python code to reverse a string:"
      ],
      "metadata": {
        "id": "7Cf91kJ7WYHF"
      }
    },
    {
      "cell_type": "code",
      "source": [
        "def reverse_string(s):\n",
        "    return s[::-1]\n",
        "\n",
        "# Example usage\n",
        "input_str = \"Hello, world!\"\n",
        "reversed_str = reverse_string(input_str)\n",
        "print(\"Reversed string:\", reversed_str)\n"
      ],
      "metadata": {
        "colab": {
          "base_uri": "https://localhost:8080/"
        },
        "id": "kE1qfmcVB954",
        "outputId": "6ce8cd49-f3f8-40e5-b033-f39b2ebdff69"
      },
      "execution_count": null,
      "outputs": [
        {
          "output_type": "stream",
          "name": "stdout",
          "text": [
            "Reversed string: !dlrow ,olleH\n"
          ]
        }
      ]
    },
    {
      "cell_type": "markdown",
      "source": [
        "Explanation:\n",
        "s[::-1] is Python slicing syntax that returns the string in reverse order.\n",
        "\n",
        "Let me know if you want the same functionality in another programming language!"
      ],
      "metadata": {
        "id": "-xqZySMTCETh"
      }
    },
    {
      "cell_type": "markdown",
      "source": [
        "**2. Write a code to count the number of vowels in a string.**\n",
        "\n",
        "Ans.= Here's a Python code to count the number of vowels in a string:"
      ],
      "metadata": {
        "id": "WFt1szAoCHy_"
      }
    },
    {
      "cell_type": "code",
      "source": [
        "def count_vowels(s):\n",
        "    vowels = \"aeiouAEIOU\"\n",
        "    count = 0\n",
        "    for char in s:\n",
        "        if char in vowels:\n",
        "            count += 1\n",
        "    return count\n",
        "\n",
        "# Example usage\n",
        "input_str = \"Hello, world!\"\n",
        "vowel_count = count_vowels(input_str)\n",
        "print(\"Number of vowels:\", vowel_count)\n"
      ],
      "metadata": {
        "id": "EYzNObyHC25W",
        "outputId": "124b8a6d-c799-4652-aaf5-37160343b08d",
        "colab": {
          "base_uri": "https://localhost:8080/"
        }
      },
      "execution_count": null,
      "outputs": [
        {
          "output_type": "stream",
          "name": "stdout",
          "text": [
            "Number of vowels: 3\n"
          ]
        }
      ]
    },
    {
      "cell_type": "markdown",
      "source": [
        "**3. Write a code to cheak if agiven string is a pallindrom or not.**\n",
        "\n",
        "Ans.= Here's a simple Python code to check if a given string is a palindrome or not:"
      ],
      "metadata": {
        "id": "HHsnzppJhTeu"
      }
    },
    {
      "cell_type": "code",
      "source": [
        "def is_palindrome(s):\n",
        "    # Remove spaces and convert to lowercase for uniform comparison\n",
        "    cleaned = ''.join(c.lower() for c in s if c.isalnum())\n",
        "    return cleaned == cleaned[::-1]\n",
        "\n",
        "# Example usage\n",
        "input_str = input(\"Enter a string: \")\n",
        "\n",
        "if is_palindrome(input_str):\n",
        "    print(\"The string is a palindrome.\")\n",
        "else:\n",
        "    print(\"The string is not a palindrome.\")\n"
      ],
      "metadata": {
        "colab": {
          "base_uri": "https://localhost:8080/"
        },
        "id": "huISlWfXhYvN",
        "outputId": "0c9a486f-6458-41b6-fd21-f2be2a02bc92"
      },
      "execution_count": 1,
      "outputs": [
        {
          "output_type": "stream",
          "name": "stdout",
          "text": [
            "Enter a string: \"hello,world\"\n",
            "The string is not a palindrome.\n"
          ]
        }
      ]
    },
    {
      "cell_type": "markdown",
      "source": [
        "**4. Write a code to check if two given string are anagrams of each other.**\n",
        "\n",
        "Ans.= Here's a Python code to check if two given strings are anagrams of each other:"
      ],
      "metadata": {
        "id": "IIfjqZofhrBe"
      }
    },
    {
      "cell_type": "code",
      "source": [
        "def are_anagrams(str1, str2):\n",
        "    # Remove spaces and convert to lowercase\n",
        "    cleaned1 = ''.join(c.lower() for c in str1 if c.isalnum())\n",
        "    cleaned2 = ''.join(c.lower() for c in str2 if c.isalnum())\n",
        "\n",
        "    # Compare sorted characters\n",
        "    return sorted(cleaned1) == sorted(cleaned2)\n",
        "\n",
        "# Example usage\n",
        "s1 = input(\"Enter the first string: \")\n",
        "s2 = input(\"Enter the second string: \")\n",
        "\n",
        "if are_anagrams(s1, s2):\n",
        "    print(\"The strings are anagrams.\")\n",
        "else:\n",
        "    print(\"The strings are not anagrams.\")\n"
      ],
      "metadata": {
        "colab": {
          "base_uri": "https://localhost:8080/"
        },
        "id": "JkOf8b-Iill5",
        "outputId": "3d225e4c-7b55-480e-84d7-de000a025222"
      },
      "execution_count": 2,
      "outputs": [
        {
          "output_type": "stream",
          "name": "stdout",
          "text": [
            "Enter the first string: \"hello,world\"\n",
            "Enter the second string: \"23,34\"\n",
            "The strings are not anagrams.\n"
          ]
        }
      ]
    },
    {
      "cell_type": "markdown",
      "source": [
        "**5. Write a code to find all occurrences of given substring of a snother string.**\n",
        "\n",
        "Ans.= Here's a Python code to find all occurrences of a given substring within another string, including overlapping matches:\n",
        "\n"
      ],
      "metadata": {
        "id": "HisQuJ8SjF3h"
      }
    },
    {
      "cell_type": "code",
      "source": [
        "def find_all_occurrences(text, substring):\n",
        "    positions = []\n",
        "    start = 0\n",
        "    while True:\n",
        "        index = text.find(substring, start)\n",
        "        if index == -1:\n",
        "            break\n",
        "        positions.append(index)\n",
        "        start = index + 1  # Move start by 1 to allow overlapping matches\n",
        "    return positions\n",
        "\n",
        "# Example usage\n",
        "main_string = input(\"Enter the main string: \")\n",
        "sub_string = input(\"Enter the substring to search for: \")\n",
        "\n",
        "occurrences = find_all_occurrences(main_string, sub_string)\n",
        "\n",
        "if occurrences:\n",
        "    print(f\"The substring occurs at positions: {occurrences}\")\n",
        "else:\n",
        "    print(\"The substring was not found.\")\n"
      ],
      "metadata": {
        "colab": {
          "base_uri": "https://localhost:8080/"
        },
        "id": "lyeOSaLcjyod",
        "outputId": "9fea823e-9602-4e9c-eb28-f5d1723cad54"
      },
      "execution_count": 6,
      "outputs": [
        {
          "output_type": "stream",
          "name": "stdout",
          "text": [
            "Enter the main string: \"2,3,4,5,6\"\n",
            "Enter the substring to search for: \"1,2,6,7,8\"\n",
            "The substring was not found.\n"
          ]
        }
      ]
    },
    {
      "cell_type": "code",
      "source": [
        "6. **Basic string compression (e.g., aabcc -> a2b1c2)**\n",
        "\n",
        "```python\n",
        "def compress_string(s):\n",
        "    result = []\n",
        "    count = 1\n",
        "    for i in range(1, len(s)):\n",
        "        if s[i] == s[i-1]:\n",
        "            count += 1\n",
        "        else:\n",
        "            result.append(s[i-1] + str(count))\n",
        "            count = 1\n",
        "    result.append(s[-1] + str(count))\n",
        "    return ''.join(result)\n",
        "```\n",
        "\n",
        "7. **Check if string has all unique characters**\n",
        "\n",
        "```python\n",
        "def has_unique_chars(s):\n",
        "    return len(set(s)) == len(s)\n",
        "```\n",
        "\n",
        "8. **Convert string to uppercase and lowercase**\n",
        "\n",
        "```python\n",
        "def to_upper_lower(s):\n",
        "    return s.upper(), s.lower()\n",
        "```\n",
        "\n",
        "9. **Count number of words in a string**\n",
        "\n",
        "```python\n",
        "def count_words(s):\n",
        "    return len(s.split())\n",
        "```\n",
        "\n",
        "10. **Concatenate strings without using `+`**\n",
        "\n",
        "```python\n",
        "def concat_strings(s1, s2):\n",
        "    return ''.join([s1, s2])\n",
        "```\n",
        "\n",
        "---\n",
        "\n",
        "### **Lists**\n",
        "\n",
        "11. **Remove all occurrences of an element from a list**\n",
        "\n",
        "```python\n",
        "def remove_element(lst, elem):\n",
        "    return [x for x in lst if x != elem]\n",
        "```\n",
        "\n",
        "12. **Find second largest number in list**\n",
        "\n",
        "```python\n",
        "def second_largest(lst):\n",
        "    unique = list(set(lst))\n",
        "    unique.sort()\n",
        "    return unique[-2] if len(unique) >= 2 else None\n",
        "```\n",
        "\n",
        "13. **Count occurrences of elements in list**\n",
        "\n",
        "```python\n",
        "def count_elements(lst):\n",
        "    from collections import Counter\n",
        "    return dict(Counter(lst))\n",
        "```\n",
        "\n",
        "14. **Reverse a list in-place (without `reverse()`)**\n",
        "\n",
        "```python\n",
        "def reverse_list(lst):\n",
        "    left, right = 0, len(lst) - 1\n",
        "    while left < right:\n",
        "        lst[left], lst[right] = lst[right], lst[left]\n",
        "        left += 1\n",
        "        right -= 1\n",
        "    return lst\n",
        "```\n",
        "\n",
        "15. **Remove duplicates while preserving order**\n",
        "\n",
        "```python\n",
        "def remove_duplicates(lst):\n",
        "    seen = set()\n",
        "    result = []\n",
        "    for item in lst:\n",
        "        if item not in seen:\n",
        "            seen.add(item)\n",
        "            result.append(item)\n",
        "    return result\n",
        "```\n",
        "\n",
        "16. **Check if list is sorted**\n",
        "\n",
        "```python\n",
        "def is_sorted(lst):\n",
        "    return lst == sorted(lst) or lst == sorted(lst, reverse=True)\n",
        "```\n",
        "\n",
        "17. **Merge two sorted lists**\n",
        "\n",
        "```python\n",
        "def merge_sorted_lists(a, b):\n",
        "    result = []\n",
        "    i = j = 0\n",
        "    while i < len(a) and j < len(b):\n",
        "        if a[i] < b[j]:\n",
        "            result.append(a[i])\n",
        "            i += 1\n",
        "        else:\n",
        "            result.append(b[j])\n",
        "            j += 1\n",
        "    result.extend(a[i:])\n",
        "    result.extend(b[j:])\n",
        "    return result\n",
        "```\n",
        "\n",
        "18. **Intersection of two lists**\n",
        "\n",
        "```python\n",
        "def list_intersection(a, b):\n",
        "    return list(set(a) & set(b))\n",
        "```\n",
        "\n",
        "19. **Union of two lists (no duplicates)**\n",
        "\n",
        "```python\n",
        "def list_union(a, b):\n",
        "    return list(set(a) | set(b))\n",
        "```\n",
        "\n",
        "20. **Shuffle a list without built-in**\n",
        "\n",
        "```python\n",
        "import random\n",
        "def custom_shuffle(lst):\n",
        "    for i in range(len(lst)-1, 0, -1):\n",
        "        j = random.randint(0, i)\n",
        "        lst[i], lst[j] = lst[j], lst[i]\n",
        "    return lst\n",
        "```\n",
        "\n",
        "---\n",
        "\n",
        "### **Tuples and Sets**\n",
        "\n",
        "21. **Common elements of two tuples**\n",
        "\n",
        "```python\n",
        "def common_elements(t1, t2):\n",
        "    return tuple(set(t1) & set(t2))\n",
        "```\n",
        "\n",
        "22. **Intersection of sets entered by user**\n",
        "\n",
        "```python\n",
        "def set_intersection():\n",
        "    a = set(map(int, input(\"Enter first set: \").split(',')))\n",
        "    b = set(map(int, input(\"Enter second set: \").split(',')))\n",
        "    print(a & b)\n",
        "```\n",
        "\n",
        "23. **Concatenate two tuples**\n",
        "\n",
        "```python\n",
        "def concat_tuples(t1, t2):\n",
        "    return t1 + t2\n",
        "```\n",
        "\n",
        "24. **First set - second set**\n",
        "\n",
        "```python\n",
        "def difference_sets():\n",
        "    s1 = set(input(\"Enter set 1: \").split())\n",
        "    s2 = set(input(\"Enter set 2: \").split())\n",
        "    print(s1 - s2)\n",
        "```\n",
        "\n",
        "25. **Tuple slice between indices**\n",
        "\n",
        "```python\n",
        "def slice_tuple(t, start, end):\n",
        "    return t[start:end]\n",
        "```\n",
        "\n",
        "26. **Union of character sets**\n",
        "\n",
        "```python\n",
        "def union_sets():\n",
        "    s1 = set(input(\"Enter first set: \"))\n",
        "    s2 = set(input(\"Enter second set: \"))\n",
        "    print(s1 | s2)\n",
        "```\n",
        "\n",
        "27. **Tuple max and min using unpacking**\n",
        "\n",
        "```python\n",
        "def min_max_tuple(t):\n",
        "    *_, = t\n",
        "    return min(t), max(t)\n",
        "```\n",
        "\n",
        "28. **Union, intersection, difference of sets**\n",
        "\n",
        "```python\n",
        "def set_operations():\n",
        "    a = {1, 2, 3}\n",
        "    b = {2, 3, 4}\n",
        "    print(\"Union:\", a | b)\n",
        "    print(\"Intersection:\", a & b)\n",
        "    print(\"Difference:\", a - b)\n",
        "```\n",
        "\n",
        "29. **Count element in tuple**\n",
        "\n",
        "```python\n",
        "def count_in_tuple(t, elem):\n",
        "    return t.count(elem)\n",
        "```\n",
        "\n",
        "30. **Symmetric difference of sets**\n",
        "\n",
        "```python\n",
        "def symmetric_difference():\n",
        "    a = set(input(\"Set 1: \").split())\n",
        "    b = set(input(\"Set 2: \").split())\n",
        "    print(a ^ b)\n",
        "```\n",
        "\n",
        "---\n",
        "\n",
        "### **Dictionaries**\n",
        "\n",
        "31. **Word frequency dictionary**\n",
        "\n",
        "```python\n",
        "def word_frequency(words):\n",
        "    from collections import Counter\n",
        "    return dict(Counter(words))\n",
        "```\n",
        "\n",
        "32. **Merge two dictionaries, sum common keys**\n",
        "\n",
        "```python\n",
        "def merge_dicts(d1, d2):\n",
        "    result = d1.copy()\n",
        "    for k, v in d2.items():\n",
        "        result[k] = result.get(k, 0) + v\n",
        "    return result\n",
        "```\n",
        "\n",
        "33. **Access nested dictionary value**\n",
        "\n",
        "```python\n",
        "def access_nested(d, keys):\n",
        "    for key in keys:\n",
        "        if isinstance(d, dict) and key in d:\n",
        "            d = d[key]\n",
        "        else:\n",
        "            return None\n",
        "    return d\n",
        "```\n",
        "\n",
        "34. **Sort dictionary by values**\n",
        "\n",
        "```python\n",
        "def sort_dict_by_values(d, reverse=False):\n",
        "    return dict(sorted(d.items(), key=lambda x: x[1], reverse=reverse))\n",
        "```\n",
        "\n",
        "35. **Invert dictionary**\n",
        "\n",
        "```python\n",
        "def invert_dict(d):\n",
        "    inverted = {}\n",
        "    for k, v in d.items():\n",
        "        if v not in inverted:\n",
        "            inverted[v] = [k]\n",
        "        else:\n",
        "            inverted[v].append(k)\n",
        "    return inverted"
      ],
      "metadata": {
        "id": "1r1GVgbykncY"
      },
      "execution_count": null,
      "outputs": []
    }
  ]
}